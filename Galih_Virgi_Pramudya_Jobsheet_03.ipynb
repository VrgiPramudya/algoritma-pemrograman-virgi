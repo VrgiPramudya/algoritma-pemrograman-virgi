{
  "nbformat": 4,
  "nbformat_minor": 0,
  "metadata": {
    "colab": {
      "provenance": [],
      "authorship_tag": "ABX9TyOAgwaO3njVdMMpKGtx2bZR",
      "include_colab_link": true
    },
    "kernelspec": {
      "name": "python3",
      "display_name": "Python 3"
    },
    "language_info": {
      "name": "python"
    }
  },
  "cells": [
    {
      "cell_type": "markdown",
      "metadata": {
        "id": "view-in-github",
        "colab_type": "text"
      },
      "source": [
        "<a href=\"https://colab.research.google.com/github/VrgiPramudya/algoritma-pemrograman-virgi/blob/main/Galih_Virgi_Pramudya_Jobsheet_03.ipynb\" target=\"_parent\"><img src=\"https://colab.research.google.com/assets/colab-badge.svg\" alt=\"Open In Colab\"/></a>"
      ]
    },
    {
      "cell_type": "markdown",
      "source": [
        "#Praktikum 01 - If Sederhana"
      ],
      "metadata": {
        "id": "XLmonQV8aThc"
      }
    },
    {
      "cell_type": "code",
      "execution_count": 1,
      "metadata": {
        "colab": {
          "base_uri": "https://localhost:8080/"
        },
        "id": "uEFRhP2UXdlx",
        "outputId": "5bc8550d-f46b-4a23-e7cf-b47b7a89c90a"
      },
      "outputs": [
        {
          "output_type": "stream",
          "name": "stdout",
          "text": [
            "Masukkan nilai ujian: 70\n",
            "Anda LULUS\n"
          ]
        }
      ],
      "source": [
        "nilai = int(input(\"Masukkan nilai ujian: \"))\n",
        "if nilai >= 60:\n",
        "  print(\"Anda LULUS\")"
      ]
    },
    {
      "cell_type": "markdown",
      "source": [
        "#Praktikum 02 - If-Else"
      ],
      "metadata": {
        "id": "ol6oXw_Zaj3L"
      }
    },
    {
      "cell_type": "code",
      "source": [
        "nilai = int(input(\"Masukkan nilai ujian: \"))\n",
        "if nilai >= 60:\n",
        "\tprint(\"Anda LULUS\")\n",
        "else:\n",
        "\tprint(\"Anda TIDAK LULUS\")\n"
      ],
      "metadata": {
        "colab": {
          "base_uri": "https://localhost:8080/"
        },
        "id": "iClJsQCDaemi",
        "outputId": "bfca62fb-f39b-43b9-c8fb-88ca18ce85db"
      },
      "execution_count": 2,
      "outputs": [
        {
          "output_type": "stream",
          "name": "stdout",
          "text": [
            "Masukkan nilai ujian: 50\n",
            "Anda TIDAK LULUS\n"
          ]
        }
      ]
    },
    {
      "cell_type": "markdown",
      "source": [
        "#Praktikum 03 - If-Elif-Else"
      ],
      "metadata": {
        "id": "1Dv5qEoOazIK"
      }
    },
    {
      "cell_type": "code",
      "source": [
        "nilai = int(input(\"Masukkan nilai akhir: \"))\n",
        "if nilai >= 85:\n",
        "\tgrade = \"A\"\n",
        "elif nilai >= 70:\n",
        "\tgrade = \"B\"\n",
        "elif nilai >= 55:\n",
        "\tgrade = \"C\"\n",
        "elif nilai >= 40:\n",
        "  grade = \"D\"\n",
        "else:\n",
        "  grade = \"E\"\n",
        "\n",
        "print(f\"Nilai Anda {nilai}, maka grade Anda = {grade}\")\n"
      ],
      "metadata": {
        "colab": {
          "base_uri": "https://localhost:8080/"
        },
        "id": "mjRPZoDGasLq",
        "outputId": "63970ff2-02d0-4ca2-82e2-881bec8fc6c8"
      },
      "execution_count": 3,
      "outputs": [
        {
          "output_type": "stream",
          "name": "stdout",
          "text": [
            "Masukkan nilai akhir: 78\n",
            "Nilai Anda 78, maka grade Anda = B\n"
          ]
        }
      ]
    },
    {
      "cell_type": "markdown",
      "source": [
        "#Praktikum 04 - Nested If"
      ],
      "metadata": {
        "id": "GYpkSH-GbOdc"
      }
    },
    {
      "cell_type": "code",
      "source": [
        "ipk = float(input(\"Masukkan IPK: \"))\n",
        "sks = int(input(\"Masukkan jumlah SKS: \"))\n",
        "\n",
        "if ipk >= 3.0:\n",
        "    if sks >= 18:\n",
        "        print(\"Anda LAYAK mendapat beasiswa\")\n",
        "    else:\n",
        "        print(\"IPK memenuhi, tapi SKS kurang\")\n",
        "else:\n",
        "    print(\"Anda TIDAK layak mendapat beasiswa\")"
      ],
      "metadata": {
        "colab": {
          "base_uri": "https://localhost:8080/"
        },
        "id": "7sWQ9vUwbJ7G",
        "outputId": "cd091878-4837-4899-abf5-35a889185ffe"
      },
      "execution_count": 46,
      "outputs": [
        {
          "output_type": "stream",
          "name": "stdout",
          "text": [
            "Masukkan IPK: 3.5\n",
            "Masukkan jumlah SKS: 20\n",
            "Anda LAYAK mendapat beasiswa\n"
          ]
        }
      ]
    },
    {
      "cell_type": "markdown",
      "source": [
        "#Praktikum 05 - Match-Case"
      ],
      "metadata": {
        "id": "v_-Mah2-dD-A"
      }
    },
    {
      "cell_type": "code",
      "source": [
        "menu = int(input(\"Pilih menu (1-3): \"))\n",
        "\n",
        "match menu:\n",
        "  case 1:\n",
        "    print(\"Anda memilih Nasi Goreng\")\n",
        "  case 2:\n",
        "    print(\"Anda memilih Mie Ayam\")\n",
        "  case 3:\n",
        "    print(\"Anda memilih Soto Ayam\")\n",
        "  case _:\n",
        "    print(\"Menu tidak tersedia\")"
      ],
      "metadata": {
        "colab": {
          "base_uri": "https://localhost:8080/"
        },
        "id": "gDyc63a_cT3Z",
        "outputId": "e3ecfc59-8d38-4c4d-d2b6-8dc560098c35"
      },
      "execution_count": 47,
      "outputs": [
        {
          "output_type": "stream",
          "name": "stdout",
          "text": [
            "Pilih menu (1-3): 3\n",
            "Anda memilih Soto Ayam\n"
          ]
        }
      ]
    },
    {
      "cell_type": "markdown",
      "source": [
        "#Praktikum 06 - Studi Kasus: Program Kasir"
      ],
      "metadata": {
        "id": "EtxyLdkjeYQz"
      }
    },
    {
      "cell_type": "code",
      "source": [
        "barang = input(\"Masukkan nama barang: \")\n",
        "harga = float(input(\"Masukkan harga barang: \"))\n",
        "jumlah = int(input(\"Masukkan jumlah barang: \"))\n",
        "\n",
        "total = harga * jumlah\n",
        "\n",
        "if total >= 500000:\n",
        "  diskon = 0.2\n",
        "elif total >= 250000:\n",
        "\tdiskon = 0.1\n",
        "else:\n",
        "\tdiskon = 0\n",
        "\n",
        "bayar = total - (total * diskon)\n",
        "\n",
        "print(\"\\n===== Struk Belanja =====\")\n",
        "print(f\"Barang : {barang}\")\n",
        "print(f\"Jumlah : {jumlah}\")\n",
        "print(f\"Total : Rp {total}\")\n",
        "print(f\"Diskon : {diskon*100}%\")\n",
        "print(f\"Bayar : Rp {bayar}\")"
      ],
      "metadata": {
        "colab": {
          "base_uri": "https://localhost:8080/"
        },
        "id": "AV_43Achdh4T",
        "outputId": "1d98469b-113d-4f2d-e58c-e85513722b4b"
      },
      "execution_count": 48,
      "outputs": [
        {
          "output_type": "stream",
          "name": "stdout",
          "text": [
            "Masukkan nama barang: Sepatu\n",
            "Masukkan harga barang: 300000\n",
            "Masukkan jumlah barang: 2\n",
            "\n",
            "===== Struk Belanja =====\n",
            "Barang : Sepatu\n",
            "Jumlah : 2\n",
            "Total : Rp 600000.0\n",
            "Diskon : 20.0%\n",
            "Bayar : Rp 480000.0\n"
          ]
        }
      ]
    },
    {
      "cell_type": "markdown",
      "source": [
        "#Penugasan No. 3 - Cek Bilangan Positif/Negatif/Nol"
      ],
      "metadata": {
        "id": "bu-y89n5fs_J"
      }
    },
    {
      "cell_type": "code",
      "source": [
        "angka = int(input(\"Masukkan sebuah bilangan bulat: \"))\n",
        "\n",
        "if angka > 0:\n",
        "    print(\"Bilangan tersebut adalah positif.\")\n",
        "elif angka < 0:\n",
        "    print(\"Bilangan tersebut adalah negatif.\")\n",
        "else:\n",
        "    print(\"Bilangan tersebut adalah nol.\")"
      ],
      "metadata": {
        "colab": {
          "base_uri": "https://localhost:8080/"
        },
        "id": "b8wkuVAfe_AY",
        "outputId": "cd1c6bed-23e9-436e-d50a-c1c0da885c74"
      },
      "execution_count": 49,
      "outputs": [
        {
          "output_type": "stream",
          "name": "stdout",
          "text": [
            "Masukkan sebuah bilangan bulat: -7\n",
            "Bilangan tersebut adalah negatif.\n"
          ]
        }
      ]
    },
    {
      "cell_type": "markdown",
      "source": [
        "#Penugasan No. 4 - Menentukan Kategori Usia"
      ],
      "metadata": {
        "id": "xT3NX3Swgitr"
      }
    },
    {
      "cell_type": "code",
      "source": [
        "umur = int(input(\"Masukkan umur Anda: \"))\n",
        "\n",
        "if umur < 5:\n",
        "    print(\"Kategori: Balita\")\n",
        "elif umur <= 11:\n",
        "    print(\"Kategori: Anak-anak\")\n",
        "elif umur <= 17:\n",
        "    print(\"Kategori: Remaja\")\n",
        "elif umur <= 59:\n",
        "    print(\"Kategori: Dewasa\")\n",
        "else:\n",
        "    print(\"Kategori: Lansia\")"
      ],
      "metadata": {
        "colab": {
          "base_uri": "https://localhost:8080/"
        },
        "id": "NbgHiMPNf9-i",
        "outputId": "6544fad8-8e47-48c3-91e6-6ff97f2e7ad1"
      },
      "execution_count": 50,
      "outputs": [
        {
          "output_type": "stream",
          "name": "stdout",
          "text": [
            "Masukkan umur Anda: 18\n",
            "Kategori: Dewasa\n"
          ]
        }
      ]
    },
    {
      "cell_type": "markdown",
      "source": [
        "#Penugasan No. 5 - Hitung Tarif Parkir"
      ],
      "metadata": {
        "id": "CUgszAG-hT5e"
      }
    },
    {
      "cell_type": "code",
      "source": [
        "jam = int(input(\"Masukkan lama parkir (jam): \"))\n",
        "\n",
        "if jam <= 2:\n",
        "    tarif = 5000\n",
        "elif jam > 2:\n",
        "    tarif = 5000 + (jam - 2) * 2000\n",
        "\n",
        "if tarif > 20000:\n",
        "    tarif = 20000\n",
        "\n",
        "print(f\"Total tarif parkir: Rp {tarif}\")"
      ],
      "metadata": {
        "colab": {
          "base_uri": "https://localhost:8080/"
        },
        "id": "AxRo1QiEgvL7",
        "outputId": "5603fc9f-38bb-4c5d-fb27-e738c62e56ca"
      },
      "execution_count": 51,
      "outputs": [
        {
          "output_type": "stream",
          "name": "stdout",
          "text": [
            "Masukkan lama parkir (jam): 5\n",
            "Total tarif parkir: Rp 11000\n"
          ]
        }
      ]
    },
    {
      "cell_type": "markdown",
      "source": [
        "#Penugasan No. 6 - Cek Login Sederhana"
      ],
      "metadata": {
        "id": "kJoLmC0skhzh"
      }
    },
    {
      "cell_type": "code",
      "source": [
        "username = input(\"Masukkan username: \")\n",
        "password = input(\"Masukkan password: \")\n",
        "\n",
        "if username == \"admin\" and password == \"1234\":\n",
        "    print(\"Login berhasil\")\n",
        "else:\n",
        "    print(\"Login gagal\")"
      ],
      "metadata": {
        "colab": {
          "base_uri": "https://localhost:8080/"
        },
        "id": "4-s6Gn3MjYWg",
        "outputId": "d53ec334-8acb-4b1d-fd34-7b34263ddb69"
      },
      "execution_count": 53,
      "outputs": [
        {
          "output_type": "stream",
          "name": "stdout",
          "text": [
            "Masukkan username: admin\n",
            "Masukkan password: 1234\n",
            "Login berhasil\n"
          ]
        }
      ]
    },
    {
      "cell_type": "markdown",
      "source": [
        "#Penugasan No. 7 - One-Liner If (Cek Genap/Ganjil)"
      ],
      "metadata": {
        "id": "r0lCDel-lafm"
      }
    },
    {
      "cell_type": "code",
      "source": [
        "angka = int(input(\"Masukkan sebuah bilangan: \"))\n",
        "\n",
        "print(\"Bilangan genap\" if angka % 2 == 0 else \"Bilangan ganjil\")"
      ],
      "metadata": {
        "colab": {
          "base_uri": "https://localhost:8080/"
        },
        "id": "mUEYKGO_ky-F",
        "outputId": "06b1ac06-b8bc-4fe1-8415-3aaad6cb82d3"
      },
      "execution_count": 32,
      "outputs": [
        {
          "output_type": "stream",
          "name": "stdout",
          "text": [
            "Masukkan sebuah bilangan: 7\n",
            "Bilangan ganjil\n"
          ]
        }
      ]
    },
    {
      "cell_type": "markdown",
      "source": [
        "#Penugasan No. 8 - Menu Restoran dengan Match-Case"
      ],
      "metadata": {
        "id": "bWzt7HKymMZj"
      }
    },
    {
      "cell_type": "code",
      "source": [
        "pilihan = int(input(\"Pilih menu (1-3): \"))\n",
        "\n",
        "match pilihan:\n",
        "    case 1:\n",
        "        print(\"Anda memilih Nasi Goreng\")\n",
        "    case 2:\n",
        "        print(\"Anda memilih Mie Ayam\")\n",
        "    case 3:\n",
        "        print(\"Anda memilih Soto Ayam\")\n",
        "    case _:\n",
        "        print(\"Menu tidak tersedia\")"
      ],
      "metadata": {
        "colab": {
          "base_uri": "https://localhost:8080/"
        },
        "id": "bolFKKh9llDn",
        "outputId": "1e431f70-74f4-4464-b96f-887ca1ccef98"
      },
      "execution_count": 54,
      "outputs": [
        {
          "output_type": "stream",
          "name": "stdout",
          "text": [
            "Pilih menu (1-3): 2\n",
            "Anda memilih Mie Ayam\n"
          ]
        }
      ]
    },
    {
      "cell_type": "markdown",
      "source": [
        "#Penugasan No. 9 - Studi Kasus Nyata - Program Penentuan Diskon"
      ],
      "metadata": {
        "id": "qmeA19ONnCj8"
      }
    },
    {
      "cell_type": "code",
      "source": [
        "nama_barang = input(\"Masukkan nama barang: \")\n",
        "jumlah = int(input(\"Masukkan jumlah barang: \"))\n",
        "harga = int(input(\"Masukkan harga satuan: \"))\n",
        "\n",
        "total = jumlah * harga\n",
        "\n",
        "if total >= 500000:\n",
        "    diskon = 0.20 * total\n",
        "elif total >= 250000:\n",
        "    diskon = 0.10 * total\n",
        "else:\n",
        "    diskon = 0\n",
        "\n",
        "total_bayar = total - diskon\n",
        "\n",
        "print(\"\\n===== STRUK BELANJA =====\")\n",
        "print(f\"Nama Barang   : {nama_barang}\")\n",
        "print(f\"Jumlah        : {jumlah}\")\n",
        "print(f\"Harga Satuan  : Rp {harga:,}\")\n",
        "print(f\"Total Belanja : Rp {total:,}\")\n",
        "print(f\"Diskon        : Rp {int(diskon):,}\")\n",
        "print(f\"Total Bayar   : Rp {int(total_bayar):,}\")\n",
        "print(\"==========================\")"
      ],
      "metadata": {
        "colab": {
          "base_uri": "https://localhost:8080/"
        },
        "id": "PJGfpTG-mWHx",
        "outputId": "80dfd096-1a4d-4c2a-dc79-e0352a8997cf"
      },
      "execution_count": 55,
      "outputs": [
        {
          "output_type": "stream",
          "name": "stdout",
          "text": [
            "Masukkan nama barang: Sepatu\n",
            "Masukkan jumlah barang: 2\n",
            "Masukkan harga satuan: 400000\n",
            "\n",
            "===== STRUK BELANJA =====\n",
            "Nama Barang   : Sepatu\n",
            "Jumlah        : 2\n",
            "Harga Satuan  : Rp 400,000\n",
            "Total Belanja : Rp 800,000\n",
            "Diskon        : Rp 160,000\n",
            "Total Bayar   : Rp 640,000\n",
            "==========================\n"
          ]
        }
      ]
    }
  ]
}