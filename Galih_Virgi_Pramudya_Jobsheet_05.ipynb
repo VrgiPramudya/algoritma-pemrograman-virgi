{
  "nbformat": 4,
  "nbformat_minor": 0,
  "metadata": {
    "colab": {
      "provenance": [],
      "authorship_tag": "ABX9TyP8YVPeaXWp+DxxLZhfUMyg",
      "include_colab_link": true
    },
    "kernelspec": {
      "name": "python3",
      "display_name": "Python 3"
    },
    "language_info": {
      "name": "python"
    }
  },
  "cells": [
    {
      "cell_type": "markdown",
      "metadata": {
        "id": "view-in-github",
        "colab_type": "text"
      },
      "source": [
        "<a href=\"https://colab.research.google.com/github/VrgiPramudya/algoritma-pemrograman-virgi/blob/main/Galih_Virgi_Pramudya_Jobsheet_05.ipynb\" target=\"_parent\"><img src=\"https://colab.research.google.com/assets/colab-badge.svg\" alt=\"Open In Colab\"/></a>"
      ]
    },
    {
      "cell_type": "markdown",
      "source": [
        "#Praktikum 01 - Indexing dan Slicing"
      ],
      "metadata": {
        "id": "mk_oQPov2_Sm"
      }
    },
    {
      "cell_type": "code",
      "execution_count": null,
      "metadata": {
        "colab": {
          "base_uri": "https://localhost:8080/"
        },
        "id": "fjBs6MkB1zHa",
        "outputId": "74d937a8-432f-492f-acaf-a45ae5dbd22f"
      },
      "outputs": [
        {
          "output_type": "stream",
          "name": "stdout",
          "text": [
            "P\n",
            "Politeknik \n",
            "Semarang\n"
          ]
        }
      ],
      "source": [
        "teks = \"Politeknik Negeri Semarang\"\n",
        "print(teks[0])\n",
        "print(teks[0:11])\n",
        "print(teks[-8:])"
      ]
    },
    {
      "cell_type": "markdown",
      "source": [
        "#Praktikum 02 - Method Bawaan String"
      ],
      "metadata": {
        "id": "LmG1hH9_3MuM"
      }
    },
    {
      "cell_type": "code",
      "source": [
        "teks = \" Politeknik Negeri Semarang \"\n",
        "print(teks.upper())\n",
        "print(teks.lower())\n",
        "print(teks.title())\n",
        "print(teks.strip())\n",
        "print(teks.split(\" \"))\n",
        "print(\"-\".join([\"Politeknik\",\"Negeri\",\"Semarang\"]))"
      ],
      "metadata": {
        "colab": {
          "base_uri": "https://localhost:8080/"
        },
        "id": "XabGrHVF3JEV",
        "outputId": "129a378f-b234-4bf5-f9b6-7a4e8f956c8e"
      },
      "execution_count": null,
      "outputs": [
        {
          "output_type": "stream",
          "name": "stdout",
          "text": [
            " POLITEKNIK NEGERI SEMARANG \n",
            " politeknik negeri semarang \n",
            " Politeknik Negeri Semarang \n",
            "Politeknik Negeri Semarang\n",
            "['', 'Politeknik', 'Negeri', 'Semarang', '']\n",
            "Politeknik-Negeri-Semarang\n"
          ]
        }
      ]
    },
    {
      "cell_type": "markdown",
      "source": [
        "#Praktikum 03 - Validasi Password"
      ],
      "metadata": {
        "id": "0m9syWkZ3lZF"
      }
    },
    {
      "cell_type": "code",
      "source": [
        "password = input(\"Masukkan password: \")\n",
        "if len(password) >= 8:\n",
        "  print(\"Password valid\")\n",
        "else:\n",
        "  print(\"Password terlalu pendek\")"
      ],
      "metadata": {
        "colab": {
          "base_uri": "https://localhost:8080/"
        },
        "id": "fTrao6E13ewT",
        "outputId": "5e2a4730-06ca-4b54-c8c8-7ae572399dc7"
      },
      "execution_count": null,
      "outputs": [
        {
          "output_type": "stream",
          "name": "stdout",
          "text": [
            "Masukkan password: python123\n",
            "Password valid\n"
          ]
        }
      ]
    },
    {
      "cell_type": "markdown",
      "source": [
        "#Praktikum 04 - String Formatting dengan F-String"
      ],
      "metadata": {
        "id": "BMim5Qv74Gat"
      }
    },
    {
      "cell_type": "code",
      "source": [
        "nama = input(\"Masukkan nama: \")\n",
        "umur = int(input(\"Masukkan umur: \"))\n",
        "\n",
        "print(f\"Nama saya {nama}, umur {umur} tahun.\")"
      ],
      "metadata": {
        "colab": {
          "base_uri": "https://localhost:8080/"
        },
        "id": "5nTug_1q3uGj",
        "outputId": "e957817e-2b8e-4026-b8ae-ab03d8fdc98a"
      },
      "execution_count": null,
      "outputs": [
        {
          "output_type": "stream",
          "name": "stdout",
          "text": [
            "Masukkan nama: Budi\n",
            "Masukkan umur: 21\n",
            "Nama saya Budi, umur 21 tahun.\n"
          ]
        }
      ]
    },
    {
      "cell_type": "markdown",
      "source": [
        "#Praktikum 05 - Operasi dalam F-String"
      ],
      "metadata": {
        "id": "w3gkatUC4U__"
      }
    },
    {
      "cell_type": "code",
      "source": [
        "a = int(input(\"Masukkan nilai a: \"))\n",
        "b = int(input(\"Masukkan nilai b: \"))\n",
        "\n",
        "print(f\"Hasil penjumlahan {a}+{b} = {a+b}\")\n",
        "print(f\"Hasil pembagian {a}/{b} = {a/b:.2f}\")"
      ],
      "metadata": {
        "colab": {
          "base_uri": "https://localhost:8080/"
        },
        "id": "0tJXXsfK4Qy2",
        "outputId": "802e5ca8-9dab-4ff0-9bc7-7d849b1b7cfe"
      },
      "execution_count": null,
      "outputs": [
        {
          "output_type": "stream",
          "name": "stdout",
          "text": [
            "Masukkan nilai a: 10\n",
            "Masukkan nilai b: 3\n",
            "Hasil penjumlahan 10+3 = 13\n",
            "Hasil pembagian 10/3 = 3.33\n"
          ]
        }
      ]
    },
    {
      "cell_type": "markdown",
      "source": [
        "#Praktikum 06 - Casting String"
      ],
      "metadata": {
        "id": "XRwCTIzs4gld"
      }
    },
    {
      "cell_type": "code",
      "source": [
        "angka = 123\n",
        "teks = \"456\"\n",
        "\n",
        "print(\"Nilai: \" + str(angka))\n",
        "print(int(teks) + 10)"
      ],
      "metadata": {
        "colab": {
          "base_uri": "https://localhost:8080/"
        },
        "id": "vzBevqHR4b-a",
        "outputId": "f3b1b1d1-77d2-4483-dada-5a3e5ab608bd"
      },
      "execution_count": null,
      "outputs": [
        {
          "output_type": "stream",
          "name": "stdout",
          "text": [
            "Nilai: 123\n",
            "466\n"
          ]
        }
      ]
    },
    {
      "cell_type": "markdown",
      "source": [
        "#Praktikum 07 - Studi Kasus Nyata: Analisis Kalimat"
      ],
      "metadata": {
        "id": "DpmipPew4xeY"
      }
    },
    {
      "cell_type": "code",
      "source": [
        "kalimat = \"Saya kuliah di Politeknik Negeri Semarang\"\n",
        "daftar_kata = kalimat.split(\" \")\n",
        "\n",
        "print(f\"Jumlah kata: {len(daftar_kata)}\")\n",
        "for i, kata in enumerate(daftar_kata, start=1):\n",
        "  print(i, kata)\n"
      ],
      "metadata": {
        "colab": {
          "base_uri": "https://localhost:8080/"
        },
        "id": "FCzKmJVD4sus",
        "outputId": "3415ae5a-cac2-4156-b18f-d32458691e26"
      },
      "execution_count": null,
      "outputs": [
        {
          "output_type": "stream",
          "name": "stdout",
          "text": [
            "Jumlah kata: 6\n",
            "1 Saya\n",
            "2 kuliah\n",
            "3 di\n",
            "4 Politeknik\n",
            "5 Negeri\n",
            "6 Semarang\n"
          ]
        }
      ]
    },
    {
      "cell_type": "markdown",
      "source": [
        "#Penugasan No. 3 - Indexing dan Slicing"
      ],
      "metadata": {
        "id": "gtVvSyU-6See"
      }
    },
    {
      "cell_type": "code",
      "source": [
        "teks = \"Politeknik Negeri Semarang\"\n",
        "\n",
        "print(teks[0])\n",
        "print(teks[-1])\n",
        "print(teks[11:17])"
      ],
      "metadata": {
        "colab": {
          "base_uri": "https://localhost:8080/"
        },
        "id": "NcwYtaVK49QC",
        "outputId": "011b9b65-a9b8-4e0e-a4f1-0f5490288d45"
      },
      "execution_count": null,
      "outputs": [
        {
          "output_type": "stream",
          "name": "stdout",
          "text": [
            "P\n",
            "g\n",
            "Negeri\n"
          ]
        }
      ]
    },
    {
      "cell_type": "markdown",
      "source": [
        "#Penugasan No. 4 - Manipulasi String"
      ],
      "metadata": {
        "id": "SuvlndXW7LhP"
      }
    },
    {
      "cell_type": "code",
      "source": [
        "kalimat = input(\"Masukkan sebuah kalimat: \")\n",
        "\n",
        "print(kalimat.upper())\n",
        "print(kalimat.lower())\n",
        "print(f\"Panjang kalimat: {len(kalimat)}\")"
      ],
      "metadata": {
        "colab": {
          "base_uri": "https://localhost:8080/"
        },
        "id": "z_sCKSwa7Cis",
        "outputId": "da4f81ec-387b-4962-f610-f7737f5f9b75"
      },
      "execution_count": null,
      "outputs": [
        {
          "output_type": "stream",
          "name": "stdout",
          "text": [
            "Masukkan sebuah kalimat: Saya berkuliah di Polines\n",
            "SAYA BERKULIAH DI POLINES\n",
            "saya berkuliah di polines\n",
            "Panjang kalimat: 25\n"
          ]
        }
      ]
    },
    {
      "cell_type": "markdown",
      "source": [
        "#Penugasan No. 5 - Validasi Username"
      ],
      "metadata": {
        "id": "aZJKfuFv8pUS"
      }
    },
    {
      "cell_type": "code",
      "source": [
        "username = input(\"Masukkan username: \")\n",
        "\n",
        "if \" \" in username:\n",
        "    print(\"Error: Username tidak boleh mengandung spasi!\")\n",
        "else:\n",
        "    print(\"Username valid.\")"
      ],
      "metadata": {
        "colab": {
          "base_uri": "https://localhost:8080/"
        },
        "id": "hdzY_nAt72RR",
        "outputId": "7baf3e0d-c571-4056-9f57-3285c8f5ec01"
      },
      "execution_count": null,
      "outputs": [
        {
          "output_type": "stream",
          "name": "stdout",
          "text": [
            "Masukkan username: virgi\n",
            "Username valid.\n"
          ]
        }
      ]
    },
    {
      "cell_type": "markdown",
      "source": [
        "#Penugasan No. 6 - String Formatting dengan F-String"
      ],
      "metadata": {
        "id": "R30tbqyd9lEQ"
      }
    },
    {
      "cell_type": "code",
      "source": [
        "nama = input(\"Masukkan nama anda: \")\n",
        "umur = int(input(\"Masukkan umur anda: \"))\n",
        "jurusan = input(\"Masukkan jurusan anda: \")\n",
        "\n",
        "print(f\"Nama: {nama}\")\n",
        "print(f\"Umur: {umur}\")\n",
        "print(f\"Jurusan: {jurusan}\")"
      ],
      "metadata": {
        "colab": {
          "base_uri": "https://localhost:8080/"
        },
        "id": "FNT2c04V9boz",
        "outputId": "b8cafb6c-c363-4f5b-8772-9bce85c5db17"
      },
      "execution_count": null,
      "outputs": [
        {
          "output_type": "stream",
          "name": "stdout",
          "text": [
            "Masukkan nama anda: Virgi\n",
            "Masukkan umur anda: 18\n",
            "Masukkan jurusan anda: Teknik Elektro\n",
            "Nama: Virgi\n",
            "Umur: 18\n",
            "Jurusan: Teknik Elektro\n"
          ]
        }
      ]
    },
    {
      "cell_type": "markdown",
      "source": [
        "#Penugasan No. 7 - Operasi dalam F-String"
      ],
      "metadata": {
        "id": "Ze8AWyxw-kg-"
      }
    },
    {
      "cell_type": "code",
      "source": [
        "a = float(input(\"Masukkan bilangan pertama: \"))\n",
        "b = float(input(\"Masukkan bilangan kedua: \"))\n",
        "\n",
        "print(f\"Hasil penjumlahan {a} + {b} = {a+b}\")\n",
        "print(f\"Hasil perkalian {a} x {b} = {a*b}\")\n",
        "print(f\"Hasil pembagian {a} / {b} = {a/b:.3f}\")"
      ],
      "metadata": {
        "colab": {
          "base_uri": "https://localhost:8080/"
        },
        "id": "tGInbKgT-Ede",
        "outputId": "fbc8f40a-c51a-45a7-b1ef-4a3c6ad6f08a"
      },
      "execution_count": null,
      "outputs": [
        {
          "output_type": "stream",
          "name": "stdout",
          "text": [
            "Masukkan bilangan pertama: 10\n",
            "Masukkan bilangan kedua: 3\n",
            "Hasil penjumlahan 10.0 + 3.0 = 13.0\n",
            "Hasil perkalian 10.0 x 3.0 = 30.0\n",
            "Hasil pembagian 10.0 / 3.0 = 3.333\n"
          ]
        }
      ]
    },
    {
      "cell_type": "markdown",
      "source": [
        "#Penugasan No. 8 - Casting Data"
      ],
      "metadata": {
        "id": "Xd8XvCrW_xnE"
      }
    },
    {
      "cell_type": "code",
      "source": [
        "teks = input(\"Masukkan sebuah angka: \")\n",
        "\n",
        "angka_int = int(teks)\n",
        "kuadrat = angka_int ** 2\n",
        "\n",
        "angka_float = float(teks)\n",
        "\n",
        "print(\"\\n=== HASIL ===\")\n",
        "print(f\"Kuadrat (int) : {kuadrat}\")\n",
        "print(f\"Bentuk float : {angka_float:.2f}\")"
      ],
      "metadata": {
        "colab": {
          "base_uri": "https://localhost:8080/"
        },
        "id": "QNiHpKO0_nd4",
        "outputId": "f81033a7-edf2-4c03-9015-f1b89a07403c"
      },
      "execution_count": null,
      "outputs": [
        {
          "output_type": "stream",
          "name": "stdout",
          "text": [
            "Masukkan sebuah angka: 7\n",
            "\n",
            "=== HASIL ===\n",
            "Kuadrat (int) : 49\n",
            "Bentuk float : 7.00\n"
          ]
        }
      ]
    },
    {
      "cell_type": "markdown",
      "source": [
        "#Penugasan No. 9 - Studi Kasus - Analisis Teks"
      ],
      "metadata": {
        "id": "BS9Ho-YZBYCR"
      }
    },
    {
      "cell_type": "code",
      "source": [
        "kalimat = input(\"Masukkan sebuah kalimat: \")\n",
        "\n",
        "kata_list = kalimat.split()\n",
        "jumlah_kata = len(kata_list)\n",
        "kata_terpanjang = max(kata_list, key=len)\n",
        "kata_urut = sorted(kata_list)\n",
        "\n",
        "print(\"\\n=== HASIL ANALISIS KALIMAT ===\")\n",
        "print(f\"Jumlah kata     : {jumlah_kata}\")\n",
        "print(f\"Kata terpanjang : {kata_terpanjang}\")\n",
        "print(\"Daftar kata (urut abjad):\")\n",
        "for kata in kata_urut:\n",
        "    print(\"-\", kata)"
      ],
      "metadata": {
        "colab": {
          "base_uri": "https://localhost:8080/"
        },
        "id": "HF1KyccuAkzd",
        "outputId": "617f03ba-f4d6-4ea3-f065-5d9785b60602"
      },
      "execution_count": null,
      "outputs": [
        {
          "output_type": "stream",
          "name": "stdout",
          "text": [
            "Masukkan sebuah kalimat: saya sedang belajar bahasa pemrograman python\n",
            "\n",
            "=== HASIL ANALISIS KALIMAT ===\n",
            "Jumlah kata     : 6\n",
            "Kata terpanjang : pemrograman\n",
            "Daftar kata (urut abjad):\n",
            "- bahasa\n",
            "- belajar\n",
            "- pemrograman\n",
            "- python\n",
            "- saya\n",
            "- sedang\n"
          ]
        }
      ]
    }
  ]
}