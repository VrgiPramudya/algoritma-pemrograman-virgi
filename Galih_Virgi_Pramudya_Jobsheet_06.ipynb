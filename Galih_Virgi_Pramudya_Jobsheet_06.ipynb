{
  "nbformat": 4,
  "nbformat_minor": 0,
  "metadata": {
    "colab": {
      "provenance": [],
      "authorship_tag": "ABX9TyP2HIefv3cpDQB0ekhGowHw",
      "include_colab_link": true
    },
    "kernelspec": {
      "name": "python3",
      "display_name": "Python 3"
    },
    "language_info": {
      "name": "python"
    }
  },
  "cells": [
    {
      "cell_type": "markdown",
      "metadata": {
        "id": "view-in-github",
        "colab_type": "text"
      },
      "source": [
        "<a href=\"https://colab.research.google.com/github/VrgiPramudya/algoritma-pemrograman-virgi/blob/main/Galih_Virgi_Pramudya_Jobsheet_06.ipynb\" target=\"_parent\"><img src=\"https://colab.research.google.com/assets/colab-badge.svg\" alt=\"Open In Colab\"/></a>"
      ]
    },
    {
      "cell_type": "markdown",
      "source": [
        "#Praktikum 01 - Membuat dan Mengakses List 1D"
      ],
      "metadata": {
        "id": "gbHVdpnOhGAU"
      }
    },
    {
      "cell_type": "code",
      "execution_count": null,
      "metadata": {
        "id": "UHErv-1QeaQX",
        "colab": {
          "base_uri": "https://localhost:8080/"
        },
        "outputId": "e30e216c-f55c-4ab6-da32-91925d59e322"
      },
      "outputs": [
        {
          "output_type": "stream",
          "name": "stdout",
          "text": [
            "Andi\n",
            "Budi\n",
            "Cici\n"
          ]
        }
      ],
      "source": [
        "mahasiswa = [\"Andi\", \"Budi\", \"Cici\"]\n",
        "\n",
        "print(mahasiswa[0])  # Andi\n",
        "print(mahasiswa[1])  # Budi\n",
        "print(mahasiswa[-1])  # Cici"
      ]
    },
    {
      "cell_type": "markdown",
      "source": [
        "#Praktikum 02 - Update dan Operasi Dasar List"
      ],
      "metadata": {
        "id": "DkU-jRHEhSYj"
      }
    },
    {
      "cell_type": "code",
      "source": [
        "nilai = [85, 90, 78]\n",
        "\n",
        "nilai[1] = 95\n",
        "nilai.append(100)\n",
        "nilai.remove(78)\n",
        "print(nilai)"
      ],
      "metadata": {
        "colab": {
          "base_uri": "https://localhost:8080/"
        },
        "id": "qQ0_8xYthPga",
        "outputId": "ddc15a98-37b9-46b8-f115-d4b3606ace54"
      },
      "execution_count": null,
      "outputs": [
        {
          "output_type": "stream",
          "name": "stdout",
          "text": [
            "[85, 95, 100]\n"
          ]
        }
      ]
    },
    {
      "cell_type": "markdown",
      "source": [
        "#Praktikum 03 - Slicing List"
      ],
      "metadata": {
        "id": "1SGC40VuhmhM"
      }
    },
    {
      "cell_type": "code",
      "source": [
        "nilai = [85, 90, 78, 92, 88]\n",
        "\n",
        "print(nilai[0:3])\n",
        "print(nilai[2:])\n",
        "print(nilai[:3])"
      ],
      "metadata": {
        "colab": {
          "base_uri": "https://localhost:8080/"
        },
        "id": "qEO51AG8hd1y",
        "outputId": "54f89399-962b-4b50-afa4-d29f8ee1a233"
      },
      "execution_count": null,
      "outputs": [
        {
          "output_type": "stream",
          "name": "stdout",
          "text": [
            "[85, 90, 78]\n",
            "[78, 92, 88]\n",
            "[85, 90, 78]\n"
          ]
        }
      ]
    },
    {
      "cell_type": "markdown",
      "source": [
        "#Praktikum 04 - List 2D (Matriks)"
      ],
      "metadata": {
        "id": "YMzRs0wRiSRS"
      }
    },
    {
      "cell_type": "code",
      "source": [
        "matriks = [\n",
        "    [1, 2, 3],\n",
        "\t  [4, 5, 6],\n",
        "\t  [7, 8, 9]\n",
        "]\n",
        "\n",
        "print(matriks[0][0])\n",
        "print(matriks[1][2])\n",
        "print(matriks[2])"
      ],
      "metadata": {
        "colab": {
          "base_uri": "https://localhost:8080/"
        },
        "id": "eqQrU505hybZ",
        "outputId": "d7f26bdd-2fa7-4b44-a3d4-f98b2c7ac32a"
      },
      "execution_count": null,
      "outputs": [
        {
          "output_type": "stream",
          "name": "stdout",
          "text": [
            "1\n",
            "6\n",
            "[7, 8, 9]\n"
          ]
        }
      ]
    },
    {
      "cell_type": "markdown",
      "source": [
        "#Praktikum 05 - Operasi pada List 2D"
      ],
      "metadata": {
        "id": "bZJW09ChitIn"
      }
    },
    {
      "cell_type": "code",
      "source": [
        "A = [[1, 2, 3], [4, 5, 6]]\n",
        "B = [[7, 8, 9], [10, 11, 12]]\n",
        "C = []\n",
        "\n",
        "for i in range(len(A)):\n",
        "  baris = []\n",
        "  for j in range(len(A[0])):\n",
        "    baris.append(A[i][j] + B[i][j])\n",
        "  C.append(baris)\n",
        "\n",
        "print(C)"
      ],
      "metadata": {
        "colab": {
          "base_uri": "https://localhost:8080/"
        },
        "id": "qJJG7V5CioHC",
        "outputId": "c9411662-b1c6-46c3-dfd4-8610d4a93157"
      },
      "execution_count": null,
      "outputs": [
        {
          "output_type": "stream",
          "name": "stdout",
          "text": [
            "[[8, 10, 12], [14, 16, 18]]\n"
          ]
        }
      ]
    },
    {
      "cell_type": "markdown",
      "source": [
        "#Praktikum 06 - Studi Kasus: Pengelolaan Nilai Mahasiswa"
      ],
      "metadata": {
        "id": "KsXAvy5fjK7o"
      }
    },
    {
      "cell_type": "code",
      "source": [
        "nilai = [\n",
        "    [80, 90, 85],\n",
        "    [70, 75, 80],\n",
        "    [88, 92, 84]\n",
        "]\n",
        "\n",
        "for i, baris\tin enumerate(nilai, start=1):\n",
        "  rata = sum(baris) / len(baris)\n",
        "  print(f\"Rata-rata mahasiswa {i}: {rata:.2f}\")"
      ],
      "metadata": {
        "colab": {
          "base_uri": "https://localhost:8080/"
        },
        "id": "bH7w4kaai-tH",
        "outputId": "2242618d-5db3-4bd1-fdaa-0a75ce92a620"
      },
      "execution_count": null,
      "outputs": [
        {
          "output_type": "stream",
          "name": "stdout",
          "text": [
            "Rata-rata mahasiswa 1: 85.00\n",
            "Rata-rata mahasiswa 2: 75.00\n",
            "Rata-rata mahasiswa 3: 88.00\n"
          ]
        }
      ]
    },
    {
      "cell_type": "markdown",
      "source": [
        "#Penugasan No. 3 - Akses Elemen List"
      ],
      "metadata": {
        "id": "Bl9XNujGkKc8"
      }
    },
    {
      "cell_type": "code",
      "source": [
        "nama_mahasiswa = [\"Virgi\", \"Adit\", \"Tama\", \"Ridho\", \"Rhafi\"]\n",
        "\n",
        "print(nama_mahasiswa[0])\n",
        "print(nama_mahasiswa[-1])\n",
        "print(nama_mahasiswa[2])"
      ],
      "metadata": {
        "colab": {
          "base_uri": "https://localhost:8080/"
        },
        "id": "lXnW1S_Djab2",
        "outputId": "9b8a3364-4ec6-439e-f590-06c8461fbb9f"
      },
      "execution_count": 1,
      "outputs": [
        {
          "output_type": "stream",
          "name": "stdout",
          "text": [
            "Virgi\n",
            "Rhafi\n",
            "Tama\n"
          ]
        }
      ]
    },
    {
      "cell_type": "markdown",
      "source": [
        "#Penugasan No. 4 - Operasi Dasar List"
      ],
      "metadata": {
        "id": "ZOa98H2Cmb-A"
      }
    },
    {
      "cell_type": "code",
      "source": [
        "nilai = [70, 75, 80]\n",
        "\n",
        "nilai[1] = 85\n",
        "nilai.append(90)\n",
        "nilai.remove(70)\n",
        "\n",
        "print(nilai)"
      ],
      "metadata": {
        "colab": {
          "base_uri": "https://localhost:8080/"
        },
        "id": "00ML-ZN9maU1",
        "outputId": "31dc95c3-a2e5-4b04-ec10-7fe617e25672"
      },
      "execution_count": null,
      "outputs": [
        {
          "output_type": "stream",
          "name": "stdout",
          "text": [
            "[85, 80, 90]\n"
          ]
        }
      ]
    },
    {
      "cell_type": "markdown",
      "source": [
        "#Penugasan No. 5 - Slicing List"
      ],
      "metadata": {
        "id": "AilHuhTfnVV-"
      }
    },
    {
      "cell_type": "code",
      "source": [
        "list_angka = [1, 2, 3, 4, 5, 6, 7, 8, 9, 10]\n",
        "\n",
        "print(\"3 elemen pertama:\", list_angka[:3])\n",
        "print(\"3 elemen terakhir:\", list_angka[-3:])\n",
        "print(\"Elemen dengan indeks genap:\", list_angka[::2])"
      ],
      "metadata": {
        "colab": {
          "base_uri": "https://localhost:8080/"
        },
        "id": "NQd1RQPPm7MQ",
        "outputId": "584f0e74-f494-40d2-8488-e3a243cd8701"
      },
      "execution_count": null,
      "outputs": [
        {
          "output_type": "stream",
          "name": "stdout",
          "text": [
            "3 elemen pertama: [1, 2, 3]\n",
            "3 elemen terakhir: [8, 9, 10]\n",
            "Elemen dengan indeks genap: [1, 3, 5, 7, 9]\n"
          ]
        }
      ]
    },
    {
      "cell_type": "markdown",
      "source": [
        "#Penugasan No. 6 - List 2D - Matriks"
      ],
      "metadata": {
        "id": "U8A2uW6wobdm"
      }
    },
    {
      "cell_type": "code",
      "source": [
        "matriks = [\n",
        "    [1, 2 ,3],\n",
        "    [4, 5, 6]\n",
        "]\n",
        "\n",
        "print(matriks[0][1])\n",
        "print(matriks[1][2])\n",
        "print(matriks[0])"
      ],
      "metadata": {
        "colab": {
          "base_uri": "https://localhost:8080/"
        },
        "id": "h5h71u-QoGv3",
        "outputId": "4b818e01-a2c5-45c2-9155-82ca0792f368"
      },
      "execution_count": null,
      "outputs": [
        {
          "output_type": "stream",
          "name": "stdout",
          "text": [
            "2\n",
            "6\n",
            "[1, 2, 3]\n"
          ]
        }
      ]
    },
    {
      "cell_type": "markdown",
      "source": [
        "#Penugasan No. 7 - Operasi Matriks 2D"
      ],
      "metadata": {
        "id": "peDZCP2FpQ51"
      }
    },
    {
      "cell_type": "code",
      "source": [
        "A = [\n",
        "    [1, 2],\n",
        "    [3, 4]\n",
        "]\n",
        "\n",
        "B = [\n",
        "    [5, 6],\n",
        "    [7, 8]\n",
        "]\n",
        "\n",
        "hasil = []\n",
        "\n",
        "for i in range(len(A)):\n",
        "  baris = []\n",
        "  for j in range(len(A[0])):\n",
        "    baris.append(A[i][j] + B[i][j])\n",
        "  hasil.append(baris)\n",
        "\n",
        "for baris in hasil:\n",
        "    print(baris)"
      ],
      "metadata": {
        "colab": {
          "base_uri": "https://localhost:8080/"
        },
        "id": "eeWDoZ3Po7y-",
        "outputId": "aa487256-0eeb-4292-8534-6af2f2ddf8b7"
      },
      "execution_count": null,
      "outputs": [
        {
          "output_type": "stream",
          "name": "stdout",
          "text": [
            "[6, 8]\n",
            "[10, 12]\n"
          ]
        }
      ]
    },
    {
      "cell_type": "markdown",
      "source": [
        "#Penugasan No. 8 - Rata-rata Nilai Mahasiswa"
      ],
      "metadata": {
        "id": "dXWVQQ6BsDzi"
      }
    },
    {
      "cell_type": "code",
      "source": [
        "nilai = [\n",
        "    [75, 80, 85],\n",
        "    [60, 70, 65],\n",
        "    [90, 95, 92]\n",
        "]\n",
        "\n",
        "for i, baris\tin enumerate(nilai, start=1):\n",
        "  rata = sum(baris) / len(baris)\n",
        "  print(f\"Rata-rata mahasiswa {i}: {rata:.2f}\")"
      ],
      "metadata": {
        "colab": {
          "base_uri": "https://localhost:8080/"
        },
        "id": "ZL0CQVY-p7cc",
        "outputId": "de2829b8-e526-4f92-c1f7-952c75a39736"
      },
      "execution_count": null,
      "outputs": [
        {
          "output_type": "stream",
          "name": "stdout",
          "text": [
            "Rata-rata mahasiswa 1: 80.00\n",
            "Rata-rata mahasiswa 2: 65.00\n",
            "Rata-rata mahasiswa 3: 92.33\n"
          ]
        }
      ]
    },
    {
      "cell_type": "markdown",
      "source": [
        "#Penugasan No. 9 - Studi Kasus : Data Toko"
      ],
      "metadata": {
        "id": "RnANpE2itUvN"
      }
    },
    {
      "cell_type": "code",
      "source": [
        "stok = [\n",
        "    [\"Buku\", 20],\n",
        "    [\"Pulpen\", 35],\n",
        "    [\"Penghapus\", 15]\n",
        "]\n",
        "\n",
        "for barang in stok:\n",
        "    print(f\"{barang[0]} : {barang[1]} unit\")\n",
        "\n",
        "terbanyak_nama = stok[0][0]\n",
        "terbanyak_jumlah = stok[0][1]\n",
        "\n",
        "for barang in stok:\n",
        "    if barang[1] > terbanyak_jumlah:\n",
        "        terbanyak_nama = barang[0]\n",
        "        terbanyak_jumlah = barang[1]\n",
        "\n",
        "print(\"\\nBarang dengan stok terbanyak:\")\n",
        "print(f\"{terbanyak_nama} ({terbanyak_jumlah} unit)\")"
      ],
      "metadata": {
        "colab": {
          "base_uri": "https://localhost:8080/"
        },
        "id": "U79fNrdcssFu",
        "outputId": "a02c3007-9339-4b8c-d01f-7c251080ba62"
      },
      "execution_count": null,
      "outputs": [
        {
          "output_type": "stream",
          "name": "stdout",
          "text": [
            "Buku : 20 unit\n",
            "Pulpen : 35 unit\n",
            "Penghapus : 15 unit\n",
            "\n",
            "Barang dengan stok terbanyak:\n",
            "Pulpen (35 unit)\n"
          ]
        }
      ]
    }
  ]
}