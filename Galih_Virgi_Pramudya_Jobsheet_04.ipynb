{
  "cells": [
    {
      "cell_type": "markdown",
      "metadata": {
        "id": "view-in-github",
        "colab_type": "text"
      },
      "source": [
        "<a href=\"https://colab.research.google.com/github/VrgiPramudya/algoritma-pemrograman-virgi/blob/main/Galih_Virgi_Pramudya_Jobsheet_04.ipynb\" target=\"_parent\"><img src=\"https://colab.research.google.com/assets/colab-badge.svg\" alt=\"Open In Colab\"/></a>"
      ]
    },
    {
      "cell_type": "markdown",
      "metadata": {
        "id": "mA5qZwnDdPkv"
      },
      "source": [
        "#Praktikum 01 - Perulangan For dengan Range"
      ]
    },
    {
      "cell_type": "code",
      "execution_count": 14,
      "metadata": {
        "colab": {
          "base_uri": "https://localhost:8080/"
        },
        "id": "kL4SKr4NXlGY",
        "outputId": "f2d00e0f-b5ef-48c1-de07-b1d8ccc31f44"
      },
      "outputs": [
        {
          "output_type": "stream",
          "name": "stdout",
          "text": [
            "1\n",
            "2\n",
            "3\n",
            "4\n"
          ]
        }
      ],
      "source": [
        "for i in range(1, 5):\n",
        "  print(i)"
      ]
    },
    {
      "cell_type": "markdown",
      "metadata": {
        "id": "T3rwXVcdf83U"
      },
      "source": [
        "#Praktikum 02 - Perulangan While"
      ]
    },
    {
      "cell_type": "code",
      "execution_count": 4,
      "metadata": {
        "colab": {
          "base_uri": "https://localhost:8080/"
        },
        "id": "sXJtjkmtf7dP",
        "outputId": "8e75b1e3-b602-4648-dab3-39387799133f"
      },
      "outputs": [
        {
          "output_type": "stream",
          "name": "stdout",
          "text": [
            "Masukkan angka: 5\n",
            "5\n",
            "4\n",
            "3\n",
            "2\n",
            "1\n"
          ]
        }
      ],
      "source": [
        "n = int(input(\"Masukkan angka: \"))\n",
        "while n > 0:\n",
        "  print(n)\n",
        "  n -= 1"
      ]
    },
    {
      "cell_type": "markdown",
      "source": [
        "#Praktikum 03 - Nested Loop (Segitiga Bintang)"
      ],
      "metadata": {
        "id": "3Gin4AcLgtx_"
      }
    },
    {
      "cell_type": "code",
      "execution_count": 17,
      "metadata": {
        "id": "32CSSYVagM8t",
        "colab": {
          "base_uri": "https://localhost:8080/"
        },
        "outputId": "3bde37e0-ef06-47f0-9dd5-bfbe3f198071"
      },
      "outputs": [
        {
          "output_type": "stream",
          "name": "stdout",
          "text": [
            "*\n",
            "**\n",
            "***\n",
            "****\n"
          ]
        }
      ],
      "source": [
        "for i in range(1, 5):\n",
        "  for j in range(i):\n",
        "    print(\"*\", end=\"\")\n",
        "  print()"
      ]
    },
    {
      "cell_type": "markdown",
      "source": [
        "#Praktikum 04 - Break dan Continue"
      ],
      "metadata": {
        "id": "xC0cJIEUhC8Y"
      }
    },
    {
      "cell_type": "code",
      "source": [
        "#BREAK\n",
        "\n",
        "for i in range(1, 10):\n",
        "  if i == 5:\n",
        "    print(\"Angka 5 ditemukan\")\n",
        "    break"
      ],
      "metadata": {
        "colab": {
          "base_uri": "https://localhost:8080/"
        },
        "id": "lahmgFg1g_2f",
        "outputId": "713eecd8-108e-4c2d-cfcb-2e9f39e6059d"
      },
      "execution_count": 19,
      "outputs": [
        {
          "output_type": "stream",
          "name": "stdout",
          "text": [
            "Angka 5 ditemukan\n"
          ]
        }
      ]
    },
    {
      "cell_type": "code",
      "source": [
        "#CONTINUE\n",
        "\n",
        "for i in range(1, 5):\n",
        "  if i % 2 == 1:\n",
        "    continue\n",
        "  print(i)"
      ],
      "metadata": {
        "colab": {
          "base_uri": "https://localhost:8080/"
        },
        "id": "CKYqvUSuhgv1",
        "outputId": "06da2b59-68bd-4ea5-a814-ec78409f8291"
      },
      "execution_count": 20,
      "outputs": [
        {
          "output_type": "stream",
          "name": "stdout",
          "text": [
            "2\n",
            "4\n"
          ]
        }
      ]
    },
    {
      "cell_type": "markdown",
      "source": [
        "#Praktikum 05 - For pada Dictionary"
      ],
      "metadata": {
        "id": "Zgw9NTNYh5Nj"
      }
    },
    {
      "cell_type": "code",
      "source": [
        "data = {\"Nama\": \"Andi\", \"Umur\": 20, \"Prodi\": \"TRK\"}\n",
        "\n",
        "for k, v in data.items():\n",
        "  print(k, \":\", v)"
      ],
      "metadata": {
        "colab": {
          "base_uri": "https://localhost:8080/"
        },
        "id": "pLFVWR9Eh3_q",
        "outputId": "2c8595fa-7abf-49b8-df18-6b667ccf1048"
      },
      "execution_count": 8,
      "outputs": [
        {
          "output_type": "stream",
          "name": "stdout",
          "text": [
            "Nama : Andi\n",
            "Umur : 20\n",
            "Prodi : TRK\n"
          ]
        }
      ]
    },
    {
      "cell_type": "markdown",
      "source": [
        "#Praktikum 06 - For dengan Enumerate"
      ],
      "metadata": {
        "id": "ty1qagRyiGNU"
      }
    },
    {
      "cell_type": "code",
      "source": [
        "daftar = [\"Andi\", \"Budi\", \"Cici\"]\n",
        "\n",
        "for i, nama in enumerate(daftar, start=1):\n",
        "  print(i, nama)"
      ],
      "metadata": {
        "colab": {
          "base_uri": "https://localhost:8080/"
        },
        "id": "PL6C5EAciFGg",
        "outputId": "3db194a2-c316-49bb-83de-1260fe1f6e7f"
      },
      "execution_count": 9,
      "outputs": [
        {
          "output_type": "stream",
          "name": "stdout",
          "text": [
            "1 Andi\n",
            "2 Budi\n",
            "3 Cici\n"
          ]
        }
      ]
    },
    {
      "cell_type": "markdown",
      "source": [
        "#Praktikum 07 - Studi Kasus: Program Kasir Multi-Item"
      ],
      "metadata": {
        "id": "5AqpShFJiT7-"
      }
    },
    {
      "cell_type": "code",
      "source": [
        "total = 0\n",
        "\n",
        "while True:\n",
        "  barang = input(\"Masukkan nama barang (ketik 'selesai' untuk berhenti): \")\n",
        "  if barang.lower() == \"selesai\":\n",
        "    break\n",
        "  harga = float(input(f\"Masukkan harga {barang}: \"))\n",
        "  jumlah = int(input(f\"Masukkan jumlah {barang}: \"))\n",
        "  subtotal = harga * jumlah\n",
        "  total += subtotal\n",
        "\n",
        "print(\"\\n===== Struk Belanja =====\")\n",
        "print(f\"Total Belanja : Rp {total}\")"
      ],
      "metadata": {
        "colab": {
          "base_uri": "https://localhost:8080/"
        },
        "id": "rZrS2A7FiOOB",
        "outputId": "aae2da93-bcf1-4869-f8cc-47d298cac8dc"
      },
      "execution_count": 16,
      "outputs": [
        {
          "output_type": "stream",
          "name": "stdout",
          "text": [
            "Masukkan nama barang (ketik 'selesai' untuk berhenti): Buku\n",
            "Masukkan harga Buku: 50000\n",
            "Masukkan jumlah Buku: 2\n",
            "Masukkan nama barang (ketik 'selesai' untuk berhenti): Pulpen\n",
            "Masukkan harga Pulpen: 5000\n",
            "Masukkan jumlah Pulpen: 3\n",
            "Masukkan nama barang (ketik 'selesai' untuk berhenti): selesai\n",
            "\n",
            "===== Struk Belanja =====\n",
            "Total Belanja : Rp 115000.0\n"
          ]
        }
      ]
    },
    {
      "cell_type": "markdown",
      "source": [
        "#Penugasan No. 3 - Menampilkan Deret Angka"
      ],
      "metadata": {
        "id": "Mo3BoDrvmSuf"
      }
    },
    {
      "cell_type": "code",
      "source": [
        "for i in range(3, 30, 3):\n",
        "  print(i, end=\" \")"
      ],
      "metadata": {
        "colab": {
          "base_uri": "https://localhost:8080/"
        },
        "id": "--OzwJZHjPWj",
        "outputId": "f0551de9-cc56-4ace-b019-b1586afc0602"
      },
      "execution_count": 46,
      "outputs": [
        {
          "output_type": "stream",
          "name": "stdout",
          "text": [
            "3 6 9 12 15 18 21 24 27 "
          ]
        }
      ]
    },
    {
      "cell_type": "markdown",
      "source": [
        "#Penugasa No. 4 - Hitung Faktorial"
      ],
      "metadata": {
        "id": "wZN_-PC7mlSM"
      }
    },
    {
      "cell_type": "code",
      "source": [
        "n = int(input(\"Masukkan bilangan: \"))\n",
        "\n",
        "faktorial = 1\n",
        "i = 1\n",
        "\n",
        "while i <= n:\n",
        "  faktorial *= i\n",
        "  i += 1\n",
        "\n",
        "print(f\"Faktorial dari {n} adalah {faktorial}\")"
      ],
      "metadata": {
        "colab": {
          "base_uri": "https://localhost:8080/"
        },
        "id": "EocHP9pemh0J",
        "outputId": "7db83b59-6529-4203-e7c1-59b570757424"
      },
      "execution_count": 23,
      "outputs": [
        {
          "output_type": "stream",
          "name": "stdout",
          "text": [
            "Masukkan bilangan: 6\n",
            "Faktorial dari 6 adalah 720\n"
          ]
        }
      ]
    },
    {
      "cell_type": "markdown",
      "source": [
        "#Penugasan No. 5 - Pola Segitiga Terbalik"
      ],
      "metadata": {
        "id": "6VbqpHQtoTXx"
      }
    },
    {
      "cell_type": "code",
      "source": [
        "for i in range(5, 0, -1):\n",
        "  for j in range(i):\n",
        "    print(\"*\", end=\"\")\n",
        "  print()"
      ],
      "metadata": {
        "colab": {
          "base_uri": "https://localhost:8080/"
        },
        "id": "mWgtNk1SnluA",
        "outputId": "91c96c16-34c7-49c4-be1c-bd14a9c5c697"
      },
      "execution_count": 25,
      "outputs": [
        {
          "output_type": "stream",
          "name": "stdout",
          "text": [
            "*****\n",
            "****\n",
            "***\n",
            "**\n",
            "*\n"
          ]
        }
      ]
    },
    {
      "cell_type": "markdown",
      "source": [
        "#Penugasan No. 6 - Cari Bilangan Prima dengan Break"
      ],
      "metadata": {
        "id": "tsgQijmrok0M"
      }
    },
    {
      "cell_type": "code",
      "source": [
        "n = int(input(\"Masukkan bilangan: \"))\n",
        "\n",
        "if n > 1:\n",
        "  is_prima = True\n",
        "\n",
        "  i = 2\n",
        "  while i < n:\n",
        "    if n % i == 0:\n",
        "      is_prima = False\n",
        "      break\n",
        "    i += 1\n",
        "\n",
        "  if is_prima:\n",
        "    print(f\"{n} adalah bilangan prima.\")\n",
        "  else:\n",
        "    print(f\"{n} bukan bilangan prima.\")\n",
        "else:\n",
        "  print(f\"{n} bukan bilangan prima (karena kurang dari 2).\")"
      ],
      "metadata": {
        "colab": {
          "base_uri": "https://localhost:8080/"
        },
        "id": "ihdtvAlGogNF",
        "outputId": "d5c3d6e3-38cf-40c3-9b0b-0d0168e4b413"
      },
      "execution_count": 48,
      "outputs": [
        {
          "output_type": "stream",
          "name": "stdout",
          "text": [
            "Masukkan bilangan: 7\n",
            "7 adalah bilangan prima.\n"
          ]
        }
      ]
    },
    {
      "cell_type": "markdown",
      "source": [
        "#Penugasan No. 7 - Tampilkan Hanya Bilangan Genap dengan Continue"
      ],
      "metadata": {
        "id": "mq6yGpYAp0Xp"
      }
    },
    {
      "cell_type": "code",
      "source": [
        "for i in range(1, 20):\n",
        "  if i % 2 == 1:\n",
        "    continue\n",
        "  print(i)"
      ],
      "metadata": {
        "colab": {
          "base_uri": "https://localhost:8080/"
        },
        "id": "sPLsNqTYpZ3i",
        "outputId": "2b1a7805-1cc6-41d5-dec1-51f46090e716"
      },
      "execution_count": 32,
      "outputs": [
        {
          "output_type": "stream",
          "name": "stdout",
          "text": [
            "2\n",
            "4\n",
            "6\n",
            "8\n",
            "10\n",
            "12\n",
            "14\n",
            "16\n",
            "18\n"
          ]
        }
      ]
    },
    {
      "cell_type": "markdown",
      "source": [
        "#Penugasan No. 8 - Iterasi Dictionary Mahasiswa"
      ],
      "metadata": {
        "id": "P-19bWGBthPs"
      }
    },
    {
      "cell_type": "code",
      "source": [
        "mahasiswa = {\n",
        "    \"Nama\": \"Budi\",\n",
        "    \"Umur\": 21,\n",
        "    \"Prodi\": \"Teknik Komputer\"\n",
        "}\n",
        "\n",
        "for k, v  in mahasiswa.items():\n",
        "  print(k, \":\", v)"
      ],
      "metadata": {
        "colab": {
          "base_uri": "https://localhost:8080/"
        },
        "id": "H9JxwIX5qnw-",
        "outputId": "138b9ed5-ebce-4415-b97b-1fa76b5a3a8e"
      },
      "execution_count": 49,
      "outputs": [
        {
          "output_type": "stream",
          "name": "stdout",
          "text": [
            "Nama : Budi\n",
            "Umur : 21\n",
            "Prodi : Teknik Komputer\n"
          ]
        }
      ]
    },
    {
      "cell_type": "markdown",
      "source": [
        "#Penugasan No. 9 - Enumerate Daftar Barang"
      ],
      "metadata": {
        "id": "YDA5kdDVuNCC"
      }
    },
    {
      "cell_type": "code",
      "source": [
        "daftarbarang = [\n",
        "    \"Buku\",\n",
        "    \"Pulpen\",\n",
        "    \"Tas\"\n",
        "]\n",
        "\n",
        "for i, barang in enumerate(daftarbarang, start=1):\n",
        "  print(i, barang)"
      ],
      "metadata": {
        "colab": {
          "base_uri": "https://localhost:8080/"
        },
        "id": "4s03XDZTt6Ji",
        "outputId": "17481641-1316-4cae-952b-5c578567e2cc"
      },
      "execution_count": 37,
      "outputs": [
        {
          "output_type": "stream",
          "name": "stdout",
          "text": [
            "1 Buku\n",
            "2 Pulpen\n",
            "3 Tas\n"
          ]
        }
      ]
    },
    {
      "cell_type": "markdown",
      "source": [
        "#Penugasan No. 10 - Studi Kasus - Kasir Diskon"
      ],
      "metadata": {
        "id": "rpNJNVOPumZa"
      }
    },
    {
      "cell_type": "code",
      "source": [
        "print(\"=== Program Kasir Sederhana ===\")\n",
        "print(\"Ketik 'selesai' jika sudah tidak ada barang.\\n\")\n",
        "\n",
        "total = 0\n",
        "\n",
        "while True:\n",
        "    namabarang = input(\"Masukkan nama barang: \")\n",
        "\n",
        "    if namabarang.lower() == \"selesai\":\n",
        "        break\n",
        "\n",
        "    harga = int(input(f\"Masukkan harga {namabarang}: \"))\n",
        "    jumlah = int(input(f\"Masukkan jumlah {namabarang}: \"))\n",
        "\n",
        "    subtotal = harga * jumlah\n",
        "    total += subtotal\n",
        "\n",
        "    print(f\"Subtotal {namabarang}: Rp{subtotal:,}\\n\")\n",
        "\n",
        "if total >= 200000:\n",
        "    diskon = total * 0.10\n",
        "else:\n",
        "    diskon = 0\n",
        "\n",
        "total_bayar = total - diskon\n",
        "\n",
        "print(\"\\n=== STRUK BELANJA ===\")\n",
        "print(\"-\" * 40)\n",
        "print(f\"Total belanja : Rp{total:,}\")\n",
        "print(f\"Diskon (10%)  : Rp{diskon:,}\")\n",
        "print(f\"Total bayar   : Rp{total_bayar:,}\")\n",
        "print(\"\\nTerima kasih sudah berbelanja!\\n\")"
      ],
      "metadata": {
        "colab": {
          "base_uri": "https://localhost:8080/"
        },
        "id": "xpJunbjqueMD",
        "outputId": "a999cd16-2aad-4d5c-c517-0bda3172cda3"
      },
      "execution_count": 44,
      "outputs": [
        {
          "output_type": "stream",
          "name": "stdout",
          "text": [
            "=== Program Kasir Sederhana ===\n",
            "Ketik 'selesai' jika sudah tidak ada barang.\n",
            "\n",
            "Masukkan nama barang: Sepatu\n",
            "Masukkan harga Sepatu: 300000\n",
            "Masukkan jumlah Sepatu: 2\n",
            "Subtotal Sepatu: Rp600,000\n",
            "\n",
            "Masukkan nama barang: Tas\n",
            "Masukkan harga Tas: 200000\n",
            "Masukkan jumlah Tas: 1\n",
            "Subtotal Tas: Rp200,000\n",
            "\n",
            "Masukkan nama barang: selesai\n",
            "\n",
            "=== STRUK BELANJA ===\n",
            "----------------------------------------\n",
            "Total belanja : Rp800,000\n",
            "Diskon (10%)  : Rp80,000.0\n",
            "Total bayar   : Rp720,000.0\n",
            "\n",
            "Terima kasih sudah berbelanja!\n",
            "\n"
          ]
        }
      ]
    }
  ],
  "metadata": {
    "colab": {
      "provenance": [],
      "authorship_tag": "ABX9TyNW9AiyJUoEY/6JscYJLL8n",
      "include_colab_link": true
    },
    "kernelspec": {
      "display_name": "Python 3",
      "name": "python3"
    },
    "language_info": {
      "name": "python"
    }
  },
  "nbformat": 4,
  "nbformat_minor": 0
}