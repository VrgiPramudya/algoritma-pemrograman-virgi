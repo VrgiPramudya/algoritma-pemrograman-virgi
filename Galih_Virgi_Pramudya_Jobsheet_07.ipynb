{
  "nbformat": 4,
  "nbformat_minor": 0,
  "metadata": {
    "colab": {
      "provenance": [],
      "authorship_tag": "ABX9TyNV+fMie3d/C1IX8wLgTwzy",
      "include_colab_link": true
    },
    "kernelspec": {
      "name": "python3",
      "display_name": "Python 3"
    },
    "language_info": {
      "name": "python"
    }
  },
  "cells": [
    {
      "cell_type": "markdown",
      "metadata": {
        "id": "view-in-github",
        "colab_type": "text"
      },
      "source": [
        "<a href=\"https://colab.research.google.com/github/VrgiPramudya/algoritma-pemrograman-virgi/blob/main/Galih_Virgi_Pramudya_Jobsheet_07.ipynb\" target=\"_parent\"><img src=\"https://colab.research.google.com/assets/colab-badge.svg\" alt=\"Open In Colab\"/></a>"
      ]
    },
    {
      "cell_type": "markdown",
      "source": [
        "#Praktikum 01 - Tuple: Data Tetap yang Tidak Bisa Diubah"
      ],
      "metadata": {
        "id": "aHwyepIM0Tzz"
      }
    },
    {
      "cell_type": "code",
      "execution_count": 1,
      "metadata": {
        "colab": {
          "base_uri": "https://localhost:8080/"
        },
        "id": "w_i9Q_MCyaFf",
        "outputId": "c35636cf-9dcd-416a-fe60-1c4ffb612db6"
      },
      "outputs": [
        {
          "output_type": "stream",
          "name": "stdout",
          "text": [
            "Lintang: 7.05\n",
            "Bujur: 110.44\n"
          ]
        }
      ],
      "source": [
        "koordinat = (7.05, 110.44)\n",
        "\n",
        "print(\"Lintang:\", koordinat[0])\n",
        "print(\"Bujur:\", koordinat[1])"
      ]
    },
    {
      "cell_type": "markdown",
      "source": [
        "#Praktikum 02 - Dictionary Dasar: Menyimpan Data Mahasiswa"
      ],
      "metadata": {
        "id": "Q2-6SToJ0deE"
      }
    },
    {
      "cell_type": "code",
      "source": [
        "mahasiswa = {\n",
        "    \"NIM\": \"20251001\",\n",
        "    \"Nama\": \"Andi\",\n",
        "    \"Prodi\": \"TRK\"\n",
        "}\n",
        "\n",
        "print(\"NIM :\", mahasiswa[\"NIM\"])\n",
        "print(\"Nama:\", mahasiswa[\"Nama\"])\n",
        "print(\"Prodi:\", mahasiswa[\"Prodi\"])"
      ],
      "metadata": {
        "colab": {
          "base_uri": "https://localhost:8080/"
        },
        "id": "hdT9TkEW0bXc",
        "outputId": "5ddcf454-2bdb-4c18-98f3-14047d92300a"
      },
      "execution_count": 3,
      "outputs": [
        {
          "output_type": "stream",
          "name": "stdout",
          "text": [
            "NIM : 20251001\n",
            "Nama: Andi\n",
            "Prodi: TRK\n"
          ]
        }
      ]
    },
    {
      "cell_type": "markdown",
      "source": [
        "#Praktikum 03 - Operasi pada Dictionary"
      ],
      "metadata": {
        "id": "98xXcNOX1JDj"
      }
    },
    {
      "cell_type": "code",
      "source": [
        "mahasiswa = {\n",
        "    \"NIM\": \"20251001\",\n",
        "    \"Nama\": \"Andi\",\n",
        "    \"Prodi\": \"TRK\"\n",
        "}\n",
        "\n",
        "mahasiswa[\"Umur\"] = 20\n",
        "mahasiswa[\"Prodi\"] = \"Teknik Komputer\"\n",
        "del mahasiswa[\"Umur\"]\n",
        "\n",
        "print(mahasiswa)"
      ],
      "metadata": {
        "colab": {
          "base_uri": "https://localhost:8080/"
        },
        "id": "paPTNRXC0xzx",
        "outputId": "09598318-9338-4a4d-e203-97991027ed1b"
      },
      "execution_count": 6,
      "outputs": [
        {
          "output_type": "stream",
          "name": "stdout",
          "text": [
            "{'NIM': '20251001', 'Nama': 'Andi', 'Prodi': 'Teknik Komputer'}\n"
          ]
        }
      ]
    },
    {
      "cell_type": "markdown",
      "source": [
        "#Praktikum 04 - Set dan Operasi Himpunan"
      ],
      "metadata": {
        "id": "y-7Uz4K11pHC"
      }
    },
    {
      "cell_type": "code",
      "source": [
        "A = {1, 2, 3, 4}\n",
        "B = {3, 4, 5, 6}\n",
        "\n",
        "print(\"Union:\", A | B)\n",
        "print(\"Intersection:\", A & B)\n",
        "print(\"Difference:\", A - B)"
      ],
      "metadata": {
        "colab": {
          "base_uri": "https://localhost:8080/"
        },
        "id": "bkzI2yVu1iQc",
        "outputId": "ad5f0bd7-6964-446b-b775-9ec729f85478"
      },
      "execution_count": 7,
      "outputs": [
        {
          "output_type": "stream",
          "name": "stdout",
          "text": [
            "Union: {1, 2, 3, 4, 5, 6}\n",
            "Intersection: {3, 4}\n",
            "Difference: {1, 2}\n"
          ]
        }
      ]
    },
    {
      "cell_type": "markdown",
      "source": [
        "#Praktikum 05 - Studi Kasus: Data Mahasiswa dan Mata Kuliah"
      ],
      "metadata": {
        "id": "PsqY4z2P2KxF"
      }
    },
    {
      "cell_type": "code",
      "source": [
        "mhs1 = {\"Algoritma\", \"Matematika\", \"Bahasa Inggris\"}\n",
        "mhs2 = {\"Algoritma\", \"Basis Data\", \"Matematika\"}\n",
        "\n",
        "print(\"Mata kuliah Mhs1:\", mhs1)\n",
        "print(\"Mata kuliah Mhs2:\", mhs2)\n",
        "print(\"Mata kuliah yang sama:\", mhs1 & mhs2)"
      ],
      "metadata": {
        "colab": {
          "base_uri": "https://localhost:8080/"
        },
        "id": "iLhgv9IO2FOR",
        "outputId": "e53f4896-fc5f-41cc-b0da-75ac064b0a57"
      },
      "execution_count": 8,
      "outputs": [
        {
          "output_type": "stream",
          "name": "stdout",
          "text": [
            "Mata kuliah Mhs1: {'Matematika', 'Algoritma', 'Bahasa Inggris'}\n",
            "Mata kuliah Mhs2: {'Matematika', 'Algoritma', 'Basis Data'}\n",
            "Mata kuliah yang sama: {'Matematika', 'Algoritma'}\n"
          ]
        }
      ]
    },
    {
      "cell_type": "markdown",
      "source": [
        "#Praktikum 06 - Studi Kasus Dictionary: Daftar Nilai Mahasiswa"
      ],
      "metadata": {
        "id": "xJr-f3Qp2bXW"
      }
    },
    {
      "cell_type": "code",
      "source": [
        "nilai_mahasiswa = {\n",
        "  \"Andi\": 80,\n",
        "  \"Budi\": 75,\n",
        "  \"Cici\": 90\n",
        "}\n",
        "\n",
        "for nama, nilai in nilai_mahasiswa.items():\n",
        "  print(f\"{nama}: {nilai}\")\n",
        "\n",
        "rata = sum(nilai_mahasiswa.values()) / len(nilai_mahasiswa)\n",
        "print(f\"Rata-rata nilai: {rata:.2f}\")"
      ],
      "metadata": {
        "colab": {
          "base_uri": "https://localhost:8080/"
        },
        "id": "OB_FEdNY2XP0",
        "outputId": "abd646fe-6b07-408e-cdfd-5214a95cb4f8"
      },
      "execution_count": 9,
      "outputs": [
        {
          "output_type": "stream",
          "name": "stdout",
          "text": [
            "Andi: 80\n",
            "Budi: 75\n",
            "Cici: 90\n",
            "Rata-rata nilai: 81.67\n"
          ]
        }
      ]
    },
    {
      "cell_type": "markdown",
      "source": [
        "#Penugasan No. 3 - Tuple Sederhana"
      ],
      "metadata": {
        "id": "95piCH7f4oym"
      }
    },
    {
      "cell_type": "code",
      "source": [
        "mahasiswa = (\"Virgi\", 18, \"Teknologi Rekayasa Komputer\")\n",
        "\n",
        "print(\"Nama   :\", mahasiswa[0])\n",
        "print(\"Umur   :\", mahasiswa[1])\n",
        "print(\"Prodi  :\", mahasiswa[2])"
      ],
      "metadata": {
        "colab": {
          "base_uri": "https://localhost:8080/"
        },
        "id": "YCm6m5NI23i5",
        "outputId": "9cd5ca8c-60f0-45c3-ae52-c4ce068f291b"
      },
      "execution_count": 11,
      "outputs": [
        {
          "output_type": "stream",
          "name": "stdout",
          "text": [
            "Nama   : Virgi\n",
            "Umur   : 18\n",
            "Prodi  : Teknologi Rekayasa Komputer\n"
          ]
        }
      ]
    },
    {
      "cell_type": "markdown",
      "source": [
        "#Penugasan No. 4 - Tuple Tidak Bisa Diubah"
      ],
      "metadata": {
        "id": "74e0ZmTc5UAb"
      }
    },
    {
      "cell_type": "code",
      "source": [
        "angka = (1, 2, 3)\n",
        "\n",
        "angka[0] = 10\n",
        "\n",
        "print(angka)"
      ],
      "metadata": {
        "colab": {
          "base_uri": "https://localhost:8080/",
          "height": 211
        },
        "id": "Y5Gw1GUt5FQd",
        "outputId": "5b00b504-d4f6-43aa-e4c5-6962308856b5"
      },
      "execution_count": 12,
      "outputs": [
        {
          "output_type": "error",
          "ename": "TypeError",
          "evalue": "'tuple' object does not support item assignment",
          "traceback": [
            "\u001b[0;31m---------------------------------------------------------------------------\u001b[0m",
            "\u001b[0;31mTypeError\u001b[0m                                 Traceback (most recent call last)",
            "\u001b[0;32m/tmp/ipython-input-638173794.py\u001b[0m in \u001b[0;36m<cell line: 0>\u001b[0;34m()\u001b[0m\n\u001b[1;32m      1\u001b[0m \u001b[0mangka\u001b[0m \u001b[0;34m=\u001b[0m \u001b[0;34m(\u001b[0m\u001b[0;36m1\u001b[0m\u001b[0;34m,\u001b[0m \u001b[0;36m2\u001b[0m\u001b[0;34m,\u001b[0m \u001b[0;36m3\u001b[0m\u001b[0;34m)\u001b[0m\u001b[0;34m\u001b[0m\u001b[0;34m\u001b[0m\u001b[0m\n\u001b[1;32m      2\u001b[0m \u001b[0;34m\u001b[0m\u001b[0m\n\u001b[0;32m----> 3\u001b[0;31m \u001b[0mangka\u001b[0m\u001b[0;34m[\u001b[0m\u001b[0;36m0\u001b[0m\u001b[0;34m]\u001b[0m \u001b[0;34m=\u001b[0m \u001b[0;36m10\u001b[0m\u001b[0;34m\u001b[0m\u001b[0;34m\u001b[0m\u001b[0m\n\u001b[0m\u001b[1;32m      4\u001b[0m \u001b[0;34m\u001b[0m\u001b[0m\n\u001b[1;32m      5\u001b[0m \u001b[0mprint\u001b[0m\u001b[0;34m(\u001b[0m\u001b[0mangka\u001b[0m\u001b[0;34m)\u001b[0m\u001b[0;34m\u001b[0m\u001b[0;34m\u001b[0m\u001b[0m\n",
            "\u001b[0;31mTypeError\u001b[0m: 'tuple' object does not support item assignment"
          ]
        }
      ]
    },
    {
      "cell_type": "markdown",
      "source": [
        "#Penugasan No. 5 - Dictionary Dasar"
      ],
      "metadata": {
        "id": "tmx5C_uO5h3q"
      }
    },
    {
      "cell_type": "code",
      "source": [
        "buku = {\n",
        "    \"Judul\": \"Algoritma\",\n",
        "    \"Penulis\": \"Munir\",\n",
        "    \"Tahun\": 2021\n",
        "}\n",
        "\n",
        "print(\"Judul  :\", buku[\"Judul\"])\n",
        "print(\"Penulis:\", buku[\"Penulis\"])\n",
        "print(\"Tahun  :\", buku[\"Tahun\"])"
      ],
      "metadata": {
        "colab": {
          "base_uri": "https://localhost:8080/"
        },
        "id": "aiVGNHja5crg",
        "outputId": "a71ec77e-514e-4e81-a56b-2658681d45d4"
      },
      "execution_count": 13,
      "outputs": [
        {
          "output_type": "stream",
          "name": "stdout",
          "text": [
            "Judul  : Algoritma\n",
            "Penulis: Munir\n",
            "Tahun  : 2021\n"
          ]
        }
      ]
    },
    {
      "cell_type": "markdown",
      "source": [
        "#Penugasan No. 6 - Operasi Dictionary"
      ],
      "metadata": {
        "id": "4cN1AldS6LP7"
      }
    },
    {
      "cell_type": "code",
      "source": [
        "dosen = {\n",
        "    \"NIP\": \"12345\",\n",
        "    \"Nama\": \"Budi\",\n",
        "    \"Prodi\": \"TRK\"\n",
        "}\n",
        "\n",
        "dosen[\"Umur\"] = 40\n",
        "dosen[\"Prodi\"] = \"Teknik komputer\"\n",
        "del dosen[\"Umur\"]\n",
        "\n",
        "print(dosen)"
      ],
      "metadata": {
        "colab": {
          "base_uri": "https://localhost:8080/"
        },
        "id": "HMP6d0Hg6FsW",
        "outputId": "781358dc-47ee-4800-c380-e374d6803049"
      },
      "execution_count": 15,
      "outputs": [
        {
          "output_type": "stream",
          "name": "stdout",
          "text": [
            "{'NIP': '12345', 'Nama': 'Budi', 'Prodi': 'Teknik komputer'}\n"
          ]
        }
      ]
    },
    {
      "cell_type": "markdown",
      "source": [
        "#Penugasan No. 7 - Set dan Himpunan"
      ],
      "metadata": {
        "id": "pCJQFKed6sic"
      }
    },
    {
      "cell_type": "code",
      "source": [
        "A = {\"Matematika\", \"Algoritma\", \"Bahasa Inggris\"}\n",
        "B = {\"Algoritma\", \"Basis Data\", \"Matematika\"}\n",
        "\n",
        "print(\"Union:\", A | B)\n",
        "print(\"Intersection\", A & B)\n",
        "print(\"Difference:\", A - B)"
      ],
      "metadata": {
        "colab": {
          "base_uri": "https://localhost:8080/"
        },
        "id": "EzB7RAo06glJ",
        "outputId": "05760283-7ae3-45d5-af07-35bb7693e42d"
      },
      "execution_count": 16,
      "outputs": [
        {
          "output_type": "stream",
          "name": "stdout",
          "text": [
            "Union: {'Matematika', 'Bahasa Inggris', 'Basis Data', 'Algoritma'}\n",
            "Intersection {'Matematika', 'Algoritma'}\n",
            "Difference: {'Bahasa Inggris'}\n"
          ]
        }
      ]
    },
    {
      "cell_type": "markdown",
      "source": [
        "#Penugasan No. 8 - Studi Kasus Dictionary"
      ],
      "metadata": {
        "id": "ZYM_LYyz7Ojg"
      }
    },
    {
      "cell_type": "code",
      "source": [
        "nilai_mahasiswa = {\n",
        "    \"Andi\": 85,\n",
        "    \"Budi\": 90,\n",
        "    \"Cici\": 78\n",
        "}\n",
        "\n",
        "for nama, nilai in nilai_mahasiswa.items():\n",
        "  print(f\"{nama}: {nilai}\")\n",
        "\n",
        "rata = sum(nilai_mahasiswa.values()) / len(nilai_mahasiswa)\n",
        "print(f\"Rata-rata nilai: {rata:.2f}\")"
      ],
      "metadata": {
        "colab": {
          "base_uri": "https://localhost:8080/"
        },
        "id": "egRLaZ6p7GVF",
        "outputId": "8ac06a98-72e0-4023-bb2e-50a0f5696fae"
      },
      "execution_count": 17,
      "outputs": [
        {
          "output_type": "stream",
          "name": "stdout",
          "text": [
            "Andi: 85\n",
            "Budi: 90\n",
            "Cici: 78\n",
            "Rata-rata nilai: 84.33\n"
          ]
        }
      ]
    },
    {
      "cell_type": "markdown",
      "source": [
        "#Penugasan No. 9 - Studi Kasus Set : Klub Mahasiswa"
      ],
      "metadata": {
        "id": "VP4lcn2A7vPo"
      }
    },
    {
      "cell_type": "code",
      "source": [
        "A = {\"Andi\", \"Budi\", \"Cici\"}\n",
        "B = {\"Cici\", \"Deni\", \"Eka\"}\n",
        "\n",
        "print(\"Daftar seluruh anggota:\", A | B)\n",
        "print(\"Anggota di kedua klub:\", A & B)\n",
        "print(\"Anggota hanya di Klub A:\", A - B)"
      ],
      "metadata": {
        "colab": {
          "base_uri": "https://localhost:8080/"
        },
        "id": "BNW62mPm7jCv",
        "outputId": "3dff5c09-4728-4753-81d7-f2f18e7d4649"
      },
      "execution_count": 21,
      "outputs": [
        {
          "output_type": "stream",
          "name": "stdout",
          "text": [
            "Daftar seluruh anggota: {'Budi', 'Deni', 'Cici', 'Andi', 'Eka'}\n",
            "Anggota di kedua klub: {'Cici'}\n",
            "Anggota hanya di Klub A: {'Budi', 'Andi'}\n"
          ]
        }
      ]
    }
  ]
}