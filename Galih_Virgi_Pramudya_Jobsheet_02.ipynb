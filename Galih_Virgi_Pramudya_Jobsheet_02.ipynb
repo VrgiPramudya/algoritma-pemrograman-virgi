{
  "nbformat": 4,
  "nbformat_minor": 0,
  "metadata": {
    "colab": {
      "provenance": [],
      "authorship_tag": "ABX9TyMhXPzVmKvaooDUNQnvKznz",
      "include_colab_link": true
    },
    "kernelspec": {
      "name": "python3",
      "display_name": "Python 3"
    },
    "language_info": {
      "name": "python"
    }
  },
  "cells": [
    {
      "cell_type": "markdown",
      "metadata": {
        "id": "view-in-github",
        "colab_type": "text"
      },
      "source": [
        "<a href=\"https://colab.research.google.com/github/VrgiPramudya/algoritma-pemrograman-jobsheet01/blob/main/Galih_Virgi_Pramudya_Jobsheet_02.ipynb\" target=\"_parent\"><img src=\"https://colab.research.google.com/assets/colab-badge.svg\" alt=\"Open In Colab\"/></a>"
      ]
    },
    {
      "cell_type": "markdown",
      "source": [
        "#Praktikum 01 -  Pengenalan Variabel dan Tipe Data"
      ],
      "metadata": {
        "id": "qda2ljunj745"
      }
    },
    {
      "cell_type": "code",
      "execution_count": null,
      "metadata": {
        "colab": {
          "base_uri": "https://localhost:8080/"
        },
        "id": "Dbl3JshEjlua",
        "outputId": "c333cd32-ab9b-4b51-9bcb-56d806384281"
      },
      "outputs": [
        {
          "output_type": "stream",
          "name": "stdout",
          "text": [
            "Umur: 20 → <class 'int'>\n",
            "Tinggi: 170.5 → <class 'float'>\n",
            "Nama: Andi → <class 'str'>\n",
            "Status Mahasiswa: True → <class 'bool'>\n",
            "Nilai: [80, 85, 90] → <class 'list'>\n",
            "Koordinat: (10, 20) → <class 'tuple'>\n",
            "Data Mahasiswa: {'nama': 'Andi', 'umur': 20, 'prodi': 'TRK'} → <class 'dict'>\n",
            "Hobi: {'olahraga', 'membaca', 'musik'} → <class 'set'>\n"
          ]
        }
      ],
      "source": [
        "# Integer\n",
        "umur = 20\n",
        "print(\"Umur:\", umur, \"→\", type(umur))\n",
        "\n",
        "# Float\n",
        "tinggi = 170.5\n",
        "print(\"Tinggi:\", tinggi, \"→\", type(tinggi))\n",
        "\n",
        "# String\n",
        "nama = \"Andi\"\n",
        "print(\"Nama:\", nama, \"→\", type(nama))\n",
        "\n",
        "# Boolean\n",
        "is_mahasiswa = True\n",
        "print(\"Status Mahasiswa:\", is_mahasiswa, \"→\", type(is_mahasiswa))\n",
        "\n",
        "# List\n",
        "nilai = [80, 85, 90]\n",
        "print(\"Nilai:\", nilai, \"→\", type(nilai))\n",
        "\n",
        "# Tuple\n",
        "koordinat = (10, 20)\n",
        "print(\"Koordinat:\", koordinat, \"→\", type(koordinat))\n",
        "\n",
        "# Dictionary\n",
        "mahasiswa = {\"nama\": \"Andi\", \"umur\": 20, \"prodi\": \"TRK\"}\n",
        "print(\"Data Mahasiswa:\", mahasiswa, \"→\", type(mahasiswa))\n",
        "\n",
        "# Set\n",
        "hobi = {\"membaca\", \"olahraga\", \"musik\"}\n",
        "print(\"Hobi:\", hobi, \"→\", type(hobi))\n"
      ]
    },
    {
      "cell_type": "markdown",
      "source": [
        "#Praktikum 02 - Input dan Output Dasar"
      ],
      "metadata": {
        "id": "vZVYNE88m5Xj"
      }
    },
    {
      "cell_type": "code",
      "source": [
        "# Input string\n",
        "nama = input(\"Masukkan nama Anda: \")\n",
        "\n",
        "# Input integer\n",
        "umur = int(input(\"Masukkan umur Anda: \"))\n",
        "\n",
        "# Input float\n",
        "tinggi = float(input(\"Masukkan tinggi badan (cm): \"))\n",
        "\n",
        "# Output standar\n",
        "print(\"Halo,\", nama, \"umur Anda:\", umur, \"tahun, tinggi:\", tinggi, \"cm\")\n",
        "\n",
        "# Output dengan format()\n",
        "print(\"Halo {0}, umur Anda {1} tahun, tinggi {2} cm\".format(nama, umur, tinggi))\n",
        "\n",
        "# Output dengan f-string\n",
        "print(f\"Halo {nama}, umur Anda {umur} tahun, tinggi {tinggi} cm\")\n"
      ],
      "metadata": {
        "colab": {
          "base_uri": "https://localhost:8080/"
        },
        "id": "vcN-nNYFmyoE",
        "outputId": "7f622abd-b6b2-4455-8b66-176f78bb71cb"
      },
      "execution_count": null,
      "outputs": [
        {
          "output_type": "stream",
          "name": "stdout",
          "text": [
            "Masukkan nama Anda: Virgi\n",
            "Masukkan umur Anda: 18\n",
            "Masukkan tinggi badan (cm): 170\n",
            "Halo, Virgi umur Anda: 18 tahun, tinggi: 170.0 cm\n",
            "Halo Virgi, umur Anda 18 tahun, tinggi 170.0 cm\n",
            "Halo Virgi, umur Anda 18 tahun, tinggi 170.0 cm\n"
          ]
        }
      ]
    },
    {
      "cell_type": "markdown",
      "source": [
        "#Praktikum 03 - Operator Aritmatika"
      ],
      "metadata": {
        "id": "4DSNW2ekzb9O"
      }
    },
    {
      "cell_type": "code",
      "source": [
        "a = 15\n",
        "b = 4\n",
        "\n",
        "print(\"a + b =\", a + b)\n",
        "print(\"a - b =\", a - b)\n",
        "print(\"a * b =\", a * b)\n",
        "print(\"a / b =\", a / b)\n",
        "print(\"a // b =\", a // b)\n",
        "print(\"a % b =\", a % b)\n",
        "print(\"a ** b =\", a ** b)"
      ],
      "metadata": {
        "colab": {
          "base_uri": "https://localhost:8080/"
        },
        "id": "VsybnrmvnSDV",
        "outputId": "91aa29ba-4bdb-4b7f-99dc-516397af65f8"
      },
      "execution_count": null,
      "outputs": [
        {
          "output_type": "stream",
          "name": "stdout",
          "text": [
            "a + b = 19\n",
            "a - b = 11\n",
            "a * b = 60\n",
            "a / b = 3.75\n",
            "a // b = 3\n",
            "a % b = 3\n",
            "a ** b = 50625\n"
          ]
        }
      ]
    },
    {
      "cell_type": "markdown",
      "source": [
        "#Praktikum 04 - Operator Relasional"
      ],
      "metadata": {
        "id": "v1F6h2f10EA-"
      }
    },
    {
      "cell_type": "code",
      "source": [
        "x = 10\n",
        "y = 20\n",
        "\n",
        "print(\"x == y :\", x == y)\n",
        "print(\"x != y :\", x != y)\n",
        "print(\"x < y :\", x < y)\n",
        "print(\"x > y :\", x > y)\n",
        "print(\"x <= y :\", x <= y)\n",
        "print(\"x >= y :\", x >= y)"
      ],
      "metadata": {
        "id": "cyMjMSVIz-Y-",
        "colab": {
          "base_uri": "https://localhost:8080/"
        },
        "outputId": "072f0bbd-da32-4c64-c692-16d707a7e413"
      },
      "execution_count": 1,
      "outputs": [
        {
          "output_type": "stream",
          "name": "stdout",
          "text": [
            "x == y : False\n",
            "x != y : True\n",
            "x < y : True\n",
            "x > y : False\n",
            "x <= y : True\n",
            "x >= y : False\n"
          ]
        }
      ]
    },
    {
      "cell_type": "markdown",
      "source": [
        "#Praktikum 05 - Operator Logika dengan Studi Kasus Nyata"
      ],
      "metadata": {
        "id": "_VbmmWCOOfYE"
      }
    },
    {
      "cell_type": "code",
      "source": [
        "# Operator logika dasar\n",
        "a = True\n",
        "b = False\n",
        "\n",
        "print(\"a and b =\", a and b)\n",
        "print(\"a or b =\", a or b)\n",
        "print(\"not a\t=\", not a)\n",
        "\n",
        "# Studi kasus nyata: kelulusan\n",
        "nilai = int(input(\"Masukkan nilai ujian: \"))\n",
        "hadir = int(input(\"Masukkan jumlah kehadiran: \"))\n",
        "\n",
        "lulus_nilai = nilai >= 60\n",
        "lulus_hadir = hadir >= 12 # dari 16 pertemuan\n",
        "\n",
        "if lulus_nilai and lulus_hadir:\n",
        "  print(\"Status: LULUS\")\n",
        "else:\n",
        "  print(\"Status: TIDAK LULUS\")"
      ],
      "metadata": {
        "colab": {
          "base_uri": "https://localhost:8080/"
        },
        "id": "DwzzsF5nOWqL",
        "outputId": "cf31a87c-5b81-4ec9-b1ae-ebbbd26b1232"
      },
      "execution_count": 3,
      "outputs": [
        {
          "output_type": "stream",
          "name": "stdout",
          "text": [
            "a and b = False\n",
            "a or b = True\n",
            "not a\t= False\n",
            "Masukkan nilai ujian: 70\n",
            "Masukkan jumlah kehadiran: 11\n",
            "Status: TIDAK LULUS\n"
          ]
        }
      ]
    },
    {
      "cell_type": "markdown",
      "source": [
        "#Praktikum 06 - Program Kasir Sederhana"
      ],
      "metadata": {
        "id": "p6lViPL4Pweb"
      }
    },
    {
      "cell_type": "code",
      "source": [
        "barang = input(\"Masukkan nama barang: \")\n",
        "harga = float(input(\"Masukkan harga barang: \"))\n",
        "jumlah = int(input(\"Masukkan jumlah barang: \"))\n",
        "\n",
        "total = harga * jumlah\n",
        "\n",
        "# Aturan diskon\n",
        "if total >= 500000:\n",
        "  diskon = 0.2\n",
        "elif total >= 250000:\n",
        "  diskon = 0.1\n",
        "else:\n",
        "  diskon = 0\n",
        "\n",
        "potongan = total * diskon\n",
        "bayar = total - potongan\n",
        "\n",
        "print(\"\\n===== Struk Belanja =====\")\n",
        "print(f\"Barang : {barang}\")\n",
        "print(f\"Jumlah : {jumlah}\")\n",
        "print(f\"Total : Rp {total}\")\n",
        "print(f\"Diskon : {diskon * 100}%\")\n",
        "print(f\"Bayar : Rp {bayar}\")"
      ],
      "metadata": {
        "colab": {
          "base_uri": "https://localhost:8080/"
        },
        "id": "5SZ5eBXQPIdu",
        "outputId": "0f2e68f8-11cd-4be4-9e36-6ae19901a2e2"
      },
      "execution_count": 4,
      "outputs": [
        {
          "output_type": "stream",
          "name": "stdout",
          "text": [
            "Masukkan nama barang: Susu SGM\n",
            "Masukkan harga barang: 650000\n",
            "Masukkan jumlah barang: 1\n",
            "\n",
            "===== Struk Belanja =====\n",
            "Barang : Susu SGM\n",
            "Jumlah : 1\n",
            "Total : Rp 650000.0\n",
            "Diskon : 20.0%\n",
            "Bayar : Rp 520000.0\n"
          ]
        }
      ]
    },
    {
      "cell_type": "markdown",
      "source": [
        "#Penugasan No. 3 - Identitas Mahasiswa"
      ],
      "metadata": {
        "id": "49U1CeDjTft4"
      }
    },
    {
      "cell_type": "code",
      "source": [
        "nama = \"Galih Virgi\"\n",
        "umur = 18\n",
        "tinggi = 170\n",
        "status_aktif = True\n",
        "\n",
        "print(f\"Nama          : {nama}\")\n",
        "print(f\"Umur          : {umur} tahun\")\n",
        "print(f\"Tinggi Badan  : {tinggi} cm\")\n",
        "print(f\"Status Aktif  : {status_aktif}\")"
      ],
      "metadata": {
        "colab": {
          "base_uri": "https://localhost:8080/"
        },
        "id": "4Cn2ustsQXyK",
        "outputId": "cabca05d-6167-4388-fa1b-e916445e11fc"
      },
      "execution_count": 6,
      "outputs": [
        {
          "output_type": "stream",
          "name": "stdout",
          "text": [
            "Nama          : Galih Virgi\n",
            "Umur          : 18 tahun\n",
            "Tinggi Badan  : 170 cm\n",
            "Status Aktif  : True\n"
          ]
        }
      ]
    },
    {
      "cell_type": "markdown",
      "source": [
        "#Penugasan No. 4 - Operasi Aritmatika"
      ],
      "metadata": {
        "id": "qfuYatyHUMrh"
      }
    },
    {
      "cell_type": "code",
      "source": [
        "a = int(input(\"Masukkan bilangan pertama: \"))\n",
        "b = int(input(\"Masukkan bilangan kedua: \"))\n",
        "\n",
        "print(f\"{a} + {b} = {a + b}\")\n",
        "print(f\"{a} - {b} = {a - b}\")\n",
        "print(f\"{a} * {b} = {a * b}\")\n",
        "print(f\"{a} / {b} = {a / b}\")\n",
        "print(f\"{a} % {b} = {a % b}\")\n",
        "print(f\"{a} ** {b} = {a ** b}\")\n"
      ],
      "metadata": {
        "colab": {
          "base_uri": "https://localhost:8080/"
        },
        "id": "i1VMQ0ooUB5z",
        "outputId": "c2b8a2b5-91a6-4bb7-c565-ee02a27e855e"
      },
      "execution_count": 7,
      "outputs": [
        {
          "output_type": "stream",
          "name": "stdout",
          "text": [
            "Masukkan bilangan pertama: 12\n",
            "Masukkan bilangan kedua: 4\n",
            "12 + 4 = 16\n",
            "12 - 4 = 8\n",
            "12 * 4 = 48\n",
            "12 / 4 = 3.0\n",
            "12 % 4 = 0\n",
            "12 ** 4 = 20736\n"
          ]
        }
      ]
    },
    {
      "cell_type": "markdown",
      "source": [
        "#Penugasan No. 5 - Konversi Nilai"
      ],
      "metadata": {
        "id": "3eewVy0rUpt4"
      }
    },
    {
      "cell_type": "code",
      "source": [
        "angka = float(input(\"Masukkan angka desimal: \"))\n",
        "\n",
        "print(f\"Sebagai integer : {int(angka)}\")\n",
        "print(f\"Sebagai string  : '{str(angka)}'\")\n",
        "print(f\"Dibulatkan (2 digit): {round(angka, 2)}\")"
      ],
      "metadata": {
        "colab": {
          "base_uri": "https://localhost:8080/"
        },
        "id": "F0DV7IoRUcMe",
        "outputId": "a96e515c-b06d-41b4-e994-5c7bebca3006"
      },
      "execution_count": 11,
      "outputs": [
        {
          "output_type": "stream",
          "name": "stdout",
          "text": [
            "Masukkan angka desimal: 3.14159\n",
            "Sebagai integer : 3\n",
            "Sebagai string  : '3.14159'\n",
            "Dibulatkan (2 digit): 3.14\n"
          ]
        }
      ]
    },
    {
      "cell_type": "markdown",
      "source": [
        "#Penugasan No. 6 - Operator Relasional"
      ],
      "metadata": {
        "id": "Netz41xyVX3l"
      }
    },
    {
      "cell_type": "code",
      "source": [
        "x = float(input(\"Masukkan bilangan pertama: \"))\n",
        "y = float(input(\"Masukkan bilangan kedua: \"))\n",
        "\n",
        "print(f\"{x} == {y} : {x == y}\")\n",
        "print(f\"{x} != {y} : {x != y}\")\n",
        "print(f\"{x} <  {y} : {x < y}\")\n",
        "print(f\"{x} >  {y} : {x > y}\")\n",
        "print(f\"{x} <= {y} : {x <= y}\")\n",
        "print(f\"{x} >= {y} : {x >= y}\")"
      ],
      "metadata": {
        "colab": {
          "base_uri": "https://localhost:8080/"
        },
        "id": "EEywwGTHVDQu",
        "outputId": "ac7c3f50-125b-400d-b987-d376f7952c0c"
      },
      "execution_count": 12,
      "outputs": [
        {
          "output_type": "stream",
          "name": "stdout",
          "text": [
            "Masukkan bilangan pertama: 15\n",
            "Masukkan bilangan kedua: 17\n",
            "15.0 == 17.0 : False\n",
            "15.0 != 17.0 : True\n",
            "15.0 <  17.0 : True\n",
            "15.0 >  17.0 : False\n",
            "15.0 <= 17.0 : True\n",
            "15.0 >= 17.0 : False\n"
          ]
        }
      ]
    }
  ]
}